{
 "cells": [
  {
   "cell_type": "code",
   "execution_count": 1,
   "id": "8e7de8bc",
   "metadata": {},
   "outputs": [],
   "source": [
    "import pandas as pd\n",
    "from sklearn.model_selection import train_test_split\n",
    "from sklearn.linear_model import LogisticRegression\n",
    "from sklearn.metrics import accuracy_score, confusion_matrix, classification_report\n",
    "from sklearn.preprocessing import StandardScaler"
   ]
  },
  {
   "cell_type": "code",
   "execution_count": 2,
   "id": "974ac419",
   "metadata": {},
   "outputs": [],
   "source": [
    "# Load data\n",
    "Matrix_Data = pd.read_csv(\"C:\\Project\\Files\\FinalFiles\\Model-Matrix_Update_MissingValues.csv\")"
   ]
  },
  {
   "cell_type": "code",
   "execution_count": 3,
   "id": "3991897a",
   "metadata": {},
   "outputs": [],
   "source": [
    "# Define features and target\n",
    "features = ['SumPopulation',\n",
    "            'SumPopulation_CompletedFromExternalData',\n",
    "            'NumberOfCities_smaller35km',\n",
    "            'Jewish_precent',\n",
    "            'Arab_precent',\n",
    "            'Jewish_Arabs_precent_CompletedFromExternalData',\n",
    "            'precentPopulation_over20',\n",
    "            'ClalitPrecent_fromTatal',\n",
    "            'ClalitPrecent_fromTatal_CompletedFromExternalData',\n",
    "            'MacabiPrecent_fromTatal',\n",
    "            'MacabiPrecent_fromTatal_CompletedFromExternalData',\n",
    "            'MeuhedetPrecent_fromTatal',\n",
    "            'MeuhedetPrecent_fromTatal_CompletedFromExternalData',\n",
    "            'LeumitPrecent_fromTatal',\n",
    "            'LeumitPrecent_fromTatal_CompletedFromExternalData',\n",
    "            'SocioeconomicStatusֹ',\n",
    "            'SocioeconomicStatusֹ_CompletedFromExternalData',\n",
    "            'periphery',\n",
    "            'Jerusalem_district',\n",
    "            'North_district',\n",
    "            'Center_district',\n",
    "            'Haifa_district',\n",
    "            'TLV_district',\n",
    "            'South_district']\n",
    "X = Matrix_Data[features]\n",
    "y = Matrix_Data['Clinic_hours_for_1000_people_bigger9']\n"
   ]
  },
  {
   "cell_type": "code",
   "execution_count": 4,
   "id": "f2f3a0a6",
   "metadata": {},
   "outputs": [],
   "source": [
    "# Normalize the feature values\n",
    "scaler = StandardScaler()\n",
    "X_normalized = scaler.fit_transform(X)"
   ]
  },
  {
   "cell_type": "code",
   "execution_count": 5,
   "id": "9a9d2e69",
   "metadata": {},
   "outputs": [
    {
     "name": "stdout",
     "output_type": "stream",
     "text": [
      "Fitting 5 folds for each of 81 candidates, totalling 405 fits\n",
      "Best parameters found:  {'class_weight': 'balanced', 'max_depth': 20, 'min_samples_leaf': 4, 'min_samples_split': 10, 'n_estimators': 200}\n",
      "Best F1 score:  0.4042678889737713\n"
     ]
    }
   ],
   "source": [
    "from sklearn.ensemble import RandomForestClassifier\n",
    "from sklearn.model_selection import GridSearchCV, StratifiedKFold\n",
    "from sklearn.metrics import make_scorer, precision_score, recall_score\n",
    "\n",
    "# Define the stratified cross-validation strategy\n",
    "stratified_cv = StratifiedKFold(n_splits=5, shuffle=True, random_state=42)\n",
    "\n",
    "# Define the parameter grid for RandomForestClassifier\n",
    "param_grid_rf = {\n",
    "    'n_estimators': [100, 200, 300],\n",
    "    'max_depth': [10, 20, 30],\n",
    "    'min_samples_split': [2, 5, 10],\n",
    "    'min_samples_leaf': [1, 2, 4],\n",
    "    'class_weight': ['balanced']\n",
    "}\n",
    "\n",
    "# Initialize the RandomForestClassifier\n",
    "rf = RandomForestClassifier(random_state=42)\n",
    "\n",
    "# Initialize GridSearchCV\n",
    "grid_search_rf = GridSearchCV(estimator=rf, param_grid=param_grid_rf, cv=stratified_cv, scoring='f1', n_jobs=-1, verbose=1)\n",
    "\n",
    "# Fit the grid search to the data\n",
    "grid_search_rf.fit(X_normalized, y)\n",
    "\n",
    "# Print the best parameters and the best score\n",
    "print(\"Best parameters found: \", grid_search_rf.best_params_)\n",
    "print(\"Best F1 score: \", grid_search_rf.best_score_)\n",
    "\n"
   ]
  },
  {
   "cell_type": "code",
   "execution_count": 6,
   "id": "bd29e0e1",
   "metadata": {},
   "outputs": [
    {
     "name": "stdout",
     "output_type": "stream",
     "text": [
      "Test Set Evaluation:\n",
      "Accuracy: 0.9604743083003953\n",
      "ROC-AUC Score: 0.9879879879879879\n",
      "Confusion Matrix:\n",
      "[[210   6]\n",
      " [  4  33]]\n",
      "Precision: 0.8461538461538461\n",
      "Recall: 0.8918918918918919\n"
     ]
    }
   ],
   "source": [
    " #Use the best estimator to predict on the test set\n",
    "best_rf = grid_search_rf.best_estimator_\n",
    "y_pred = best_rf.predict(X_normalized)\n",
    "y_pred_proba = best_rf.predict_proba(X_normalized)[:, 1]\n",
    "\n",
    "# Evaluate the results\n",
    "from sklearn.metrics import accuracy_score, roc_auc_score, confusion_matrix, precision_score, recall_score\n",
    "\n",
    "accuracy = accuracy_score(y, y_pred)\n",
    "roc_auc = roc_auc_score(y, y_pred_proba)\n",
    "conf_matrix = confusion_matrix(y, y_pred)\n",
    "precision = precision_score(y, y_pred)\n",
    "recall = recall_score(y, y_pred)\n",
    "\n",
    "print(f\"Test Set Evaluation:\\nAccuracy: {accuracy}\\nROC-AUC Score: {roc_auc}\")\n",
    "print(f\"Confusion Matrix:\\n{conf_matrix}\")\n",
    "print(f\"Precision: {precision}\\nRecall: {recall}\")\n"
   ]
  },
  {
   "cell_type": "code",
   "execution_count": 7,
   "id": "4cdd0bce",
   "metadata": {},
   "outputs": [
    {
     "name": "stdout",
     "output_type": "stream",
     "text": [
      "Requirement already satisfied: shap in c:\\users\\galtu\\anaconda3\\lib\\site-packages (0.45.1)\n",
      "Requirement already satisfied: numpy in c:\\users\\galtu\\anaconda3\\lib\\site-packages (from shap) (1.24.3)\n",
      "Requirement already satisfied: scipy in c:\\users\\galtu\\anaconda3\\lib\\site-packages (from shap) (1.11.1)\n",
      "Requirement already satisfied: scikit-learn in c:\\users\\galtu\\anaconda3\\lib\\site-packages (from shap) (1.3.0)\n",
      "Requirement already satisfied: pandas in c:\\users\\galtu\\anaconda3\\lib\\site-packages (from shap) (2.0.3)\n",
      "Requirement already satisfied: tqdm>=4.27.0 in c:\\users\\galtu\\anaconda3\\lib\\site-packages (from shap) (4.65.0)\n",
      "Requirement already satisfied: packaging>20.9 in c:\\users\\galtu\\anaconda3\\lib\\site-packages (from shap) (23.1)\n",
      "Requirement already satisfied: slicer==0.0.8 in c:\\users\\galtu\\anaconda3\\lib\\site-packages (from shap) (0.0.8)\n",
      "Requirement already satisfied: numba in c:\\users\\galtu\\anaconda3\\lib\\site-packages (from shap) (0.57.1)\n",
      "Requirement already satisfied: cloudpickle in c:\\users\\galtu\\anaconda3\\lib\\site-packages (from shap) (2.2.1)\n",
      "Requirement already satisfied: colorama in c:\\users\\galtu\\anaconda3\\lib\\site-packages (from tqdm>=4.27.0->shap) (0.4.6)\n",
      "Requirement already satisfied: llvmlite<0.41,>=0.40.0dev0 in c:\\users\\galtu\\anaconda3\\lib\\site-packages (from numba->shap) (0.40.0)\n",
      "Requirement already satisfied: python-dateutil>=2.8.2 in c:\\users\\galtu\\anaconda3\\lib\\site-packages (from pandas->shap) (2.8.2)\n",
      "Requirement already satisfied: pytz>=2020.1 in c:\\users\\galtu\\anaconda3\\lib\\site-packages (from pandas->shap) (2023.3.post1)\n",
      "Requirement already satisfied: tzdata>=2022.1 in c:\\users\\galtu\\anaconda3\\lib\\site-packages (from pandas->shap) (2023.3)\n",
      "Requirement already satisfied: joblib>=1.1.1 in c:\\users\\galtu\\anaconda3\\lib\\site-packages (from scikit-learn->shap) (1.2.0)\n",
      "Requirement already satisfied: threadpoolctl>=2.0.0 in c:\\users\\galtu\\anaconda3\\lib\\site-packages (from scikit-learn->shap) (2.2.0)\n",
      "Requirement already satisfied: six>=1.5 in c:\\users\\galtu\\anaconda3\\lib\\site-packages (from python-dateutil>=2.8.2->pandas->shap) (1.16.0)\n",
      "Note: you may need to restart the kernel to use updated packages.\n"
     ]
    }
   ],
   "source": [
    "pip install shap"
   ]
  },
  {
   "cell_type": "code",
   "execution_count": 8,
   "id": "c4984806",
   "metadata": {},
   "outputs": [],
   "source": [
    "import shap"
   ]
  },
  {
   "cell_type": "code",
   "execution_count": 38,
   "id": "9d953681",
   "metadata": {},
   "outputs": [],
   "source": [
    "# SHAP explanations using TreeExplainer\n",
    "explainer = shap.TreeExplainer(best_rf)\n",
    "shap_values = explainer.shap_values(X_normalized)\n"
   ]
  },
  {
   "cell_type": "code",
   "execution_count": 39,
   "id": "ef404788",
   "metadata": {},
   "outputs": [
    {
     "data": {
      "image/png": "[encoded data removed]",
      "text/plain": [
       "<Figure size 1150x660 with 2 Axes>"
      ]
     },
     "metadata": {},
     "output_type": "display_data"
    }
   ],
   "source": [
    "\n",
    "# Plot the SHAP values, showing all features\n",
    "shap.summary_plot(shap_values, X_normalized, plot_type=\"bar\")"
   ]
  },
  {
   "cell_type": "code",
   "execution_count": null,
   "id": "2ae65d9e",
   "metadata": {},
   "outputs": [],
   "source": []
  }
 ],
 "metadata": {
  "kernelspec": {
   "display_name": "Python 3 (ipykernel)",
   "language": "python",
   "name": "python3"
  },
  "language_info": {
   "codemirror_mode": {
    "name": "ipython",
    "version": 3
   },
   "file_extension": ".py",
   "mimetype": "text/x-python",
   "name": "python",
   "nbconvert_exporter": "python",
   "pygments_lexer": "ipython3",
   "version": "3.11.5"
  }
 },
 "nbformat": 4,
 "nbformat_minor": 5
}
