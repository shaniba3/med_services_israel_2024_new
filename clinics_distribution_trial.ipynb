{
 "cells": [
  {
   "cell_type": "markdown",
   "source": [
    "this notebook is based on my conversation with chatGPT from May 21, 2024: https://chatgpt.com/share/ddf67ef8-6574-41b1-9a04-08f8f626174a "
   ],
   "metadata": {
    "collapsed": false
   },
   "id": "1a9202a07f26b0bb"
  },
  {
   "cell_type": "markdown",
   "source": [
    "### calculate fair allocation of clinic hours in a mock set up of 10 authorities:"
   ],
   "metadata": {
    "collapsed": false
   },
   "id": "eabe4b7902162f38"
  },
  {
   "cell_type": "code",
   "execution_count": 6,
   "id": "initial_id",
   "metadata": {
    "collapsed": true,
    "ExecuteTime": {
     "end_time": "2024-05-21T19:00:01.787711900Z",
     "start_time": "2024-05-21T19:00:01.767711500Z"
    }
   },
   "outputs": [
    {
     "name": "stdout",
     "output_type": "stream",
     "text": [
      "  Authority  Population  Allocated Working Hours\n",
      "0        A1       50000              1953.703704\n",
      "1        A2       70000              2735.185185\n",
      "2        A3       30000              1172.222222\n",
      "3        A4       40000              1562.962963\n",
      "4        A5       60000              2344.444444\n",
      "5        A6       50000              1953.703704\n",
      "6        A7       80000              3125.925926\n",
      "7        A8       45000              1758.333333\n",
      "8        A9       55000              2149.074074\n",
      "9       A10       60000              2344.444444\n"
     ]
    }
   ],
   "source": [
    "import pandas as pd\n",
    "\n",
    "# Sample data\n",
    "data = {\n",
    "    'Authority': ['A1', 'A2', 'A3', 'A4', 'A5', 'A6', 'A7', 'A8', 'A9', 'A10'],\n",
    "    'Population': [50000, 70000, 30000, 40000, 60000, 50000, 80000, 45000, 55000, 60000],\n",
    "    'Clinics': [5, 7, 3, 4, 6, 5, 8, 4, 5, 6],\n",
    "    'Working Hours': [2000, 2500, 1500, 1800, 2300, 2000, 2600, 1800, 2200, 2400]\n",
    "}\n",
    "\n",
    "df = pd.DataFrame(data)\n",
    "\n",
    "# Calculate total population and total working hours\n",
    "total_population = df['Population'].sum()\n",
    "total_working_hours = df['Working Hours'].sum()\n",
    "\n",
    "# Calculate population proportion and allocate working hours\n",
    "df['Population Proportion'] = df['Population'] / total_population\n",
    "df['Allocated Working Hours'] = df['Population Proportion'] * total_working_hours\n",
    "\n",
    "data_df = pd.DataFrame(data)\n",
    "data_df['Allocated Working Hours'] = df['Allocated Working Hours']\n",
    "\n",
    "# Display the results\n",
    "# import ace_tools as tools; tools.display_dataframe_to_user(name=\"Allocated Working Hours Distribution\", dataframe=df)\n",
    "\n",
    "print(df[['Authority', 'Population', 'Allocated Working Hours']])\n"
   ]
  },
  {
   "cell_type": "code",
   "outputs": [
    {
     "data": {
      "text/plain": "  Authority  Population  Clinics  Working Hours  Allocated Working Hours\n0        A1       50000        5           2000              1953.703704\n1        A2       70000        7           2500              2735.185185\n2        A3       30000        3           1500              1172.222222\n3        A4       40000        4           1800              1562.962963\n4        A5       60000        6           2300              2344.444444\n5        A6       50000        5           2000              1953.703704\n6        A7       80000        8           2600              3125.925926\n7        A8       45000        4           1800              1758.333333\n8        A9       55000        5           2200              2149.074074\n9       A10       60000        6           2400              2344.444444",
      "text/html": "<div>\n<style scoped>\n    .dataframe tbody tr th:only-of-type {\n        vertical-align: middle;\n    }\n\n    .dataframe tbody tr th {\n        vertical-align: top;\n    }\n\n    .dataframe thead th {\n        text-align: right;\n    }\n</style>\n<table border=\"1\" class=\"dataframe\">\n  <thead>\n    <tr style=\"text-align: right;\">\n      <th></th>\n      <th>Authority</th>\n      <th>Population</th>\n      <th>Clinics</th>\n      <th>Working Hours</th>\n      <th>Allocated Working Hours</th>\n    </tr>\n  </thead>\n  <tbody>\n    <tr>\n      <th>0</th>\n      <td>A1</td>\n      <td>50000</td>\n      <td>5</td>\n      <td>2000</td>\n      <td>1953.703704</td>\n    </tr>\n    <tr>\n      <th>1</th>\n      <td>A2</td>\n      <td>70000</td>\n      <td>7</td>\n      <td>2500</td>\n      <td>2735.185185</td>\n    </tr>\n    <tr>\n      <th>2</th>\n      <td>A3</td>\n      <td>30000</td>\n      <td>3</td>\n      <td>1500</td>\n      <td>1172.222222</td>\n    </tr>\n    <tr>\n      <th>3</th>\n      <td>A4</td>\n      <td>40000</td>\n      <td>4</td>\n      <td>1800</td>\n      <td>1562.962963</td>\n    </tr>\n    <tr>\n      <th>4</th>\n      <td>A5</td>\n      <td>60000</td>\n      <td>6</td>\n      <td>2300</td>\n      <td>2344.444444</td>\n    </tr>\n    <tr>\n      <th>5</th>\n      <td>A6</td>\n      <td>50000</td>\n      <td>5</td>\n      <td>2000</td>\n      <td>1953.703704</td>\n    </tr>\n    <tr>\n      <th>6</th>\n      <td>A7</td>\n      <td>80000</td>\n      <td>8</td>\n      <td>2600</td>\n      <td>3125.925926</td>\n    </tr>\n    <tr>\n      <th>7</th>\n      <td>A8</td>\n      <td>45000</td>\n      <td>4</td>\n      <td>1800</td>\n      <td>1758.333333</td>\n    </tr>\n    <tr>\n      <th>8</th>\n      <td>A9</td>\n      <td>55000</td>\n      <td>5</td>\n      <td>2200</td>\n      <td>2149.074074</td>\n    </tr>\n    <tr>\n      <th>9</th>\n      <td>A10</td>\n      <td>60000</td>\n      <td>6</td>\n      <td>2400</td>\n      <td>2344.444444</td>\n    </tr>\n  </tbody>\n</table>\n</div>"
     },
     "execution_count": 7,
     "metadata": {},
     "output_type": "execute_result"
    }
   ],
   "source": [
    "data_df"
   ],
   "metadata": {
    "collapsed": false,
    "ExecuteTime": {
     "end_time": "2024-05-21T19:00:06.796952300Z",
     "start_time": "2024-05-21T19:00:06.781810100Z"
    }
   },
   "id": "dca37efca095be11",
   "execution_count": 7
  },
  {
   "cell_type": "markdown",
   "source": [
    "### calculate fair allocation of doctors in a mock set up of 10 authorities:\n",
    "there is a bug in this code - the final allocation is identical to the initial allocation"
   ],
   "metadata": {
    "collapsed": false
   },
   "id": "88d32fdb9fe46faf"
  },
  {
   "cell_type": "code",
   "outputs": [
    {
     "name": "stdout",
     "output_type": "stream",
     "text": [
      "  Authority  Current Doctors  Initial Allocation  Final Allocation\n",
      "0        A1               20                  20                20\n",
      "9       A10               24                  24                24\n",
      "1        A2               28                  28                28\n",
      "2        A3               12                  12                12\n",
      "3        A4               16                  16                16\n",
      "4        A5               24                  24                24\n",
      "5        A6               20                  20                20\n",
      "6        A7               32                  32                32\n",
      "7        A8               18                  18                18\n",
      "8        A9               22                  22                22\n"
     ]
    }
   ],
   "source": [
    "import pandas as pd\n",
    "import numpy as np\n",
    "\n",
    "# Sample data\n",
    "data = {\n",
    "    'Authority': ['A1', 'A2', 'A3', 'A4', 'A5', 'A6', 'A7', 'A8', 'A9', 'A10'],\n",
    "    'Population': [50000, 70000, 30000, 40000, 60000, 50000, 80000, 45000, 55000, 60000],\n",
    "    'Doctors': [20, 28, 12, 16, 24, 20, 32, 18, 22, 24]\n",
    "}\n",
    "\n",
    "df = pd.DataFrame(data)\n",
    "\n",
    "# Calculate total population and total number of doctors\n",
    "total_population = df['Population'].sum()\n",
    "total_doctors = df['Doctors'].sum()\n",
    "\n",
    "# Calculate ideal number of doctors\n",
    "df['Ideal Doctors'] = (df['Population'] / total_population) * total_doctors\n",
    "\n",
    "# Initial allocation (floor of ideal doctors)\n",
    "df['Initial Doctors'] = np.floor(df['Ideal Doctors']).astype(int)\n",
    "\n",
    "# Calculate remaining doctors to be assigned\n",
    "remaining_doctors = total_doctors - df['Initial Doctors'].sum()\n",
    "\n",
    "# Calculate remainders\n",
    "df['Remainder'] = df['Ideal Doctors'] - df['Initial Doctors']\n",
    "\n",
    "# Distribute remaining doctors based on largest remainders\n",
    "df = df.sort_values(by='Remainder', ascending=False)\n",
    "df.iloc[:remaining_doctors, df.columns.get_loc('Initial Doctors')] += 1\n",
    "\n",
    "# Final allocation\n",
    "df = df.sort_values(by='Authority')\n",
    "df['Final Doctors'] = df['Initial Doctors']\n",
    "\n",
    "# Create summary dataframe\n",
    "summary_df = df[['Authority', 'Doctors', 'Initial Doctors', 'Final Doctors']].copy()\n",
    "summary_df.columns = ['Authority', 'Current Doctors', 'Initial Allocation', 'Final Allocation']\n",
    "\n",
    "\n",
    "\n",
    "print(summary_df)\n"
   ],
   "metadata": {
    "collapsed": false,
    "ExecuteTime": {
     "end_time": "2024-05-21T19:03:54.167672100Z",
     "start_time": "2024-05-21T19:03:54.056340600Z"
    }
   },
   "id": "7ed10840f4096cc2",
   "execution_count": 8
  },
  {
   "cell_type": "code",
   "outputs": [
    {
     "data": {
      "text/plain": "0.00015698223733938012"
     },
     "execution_count": 12,
     "metadata": {},
     "output_type": "execute_result"
    }
   ],
   "source": [
    "summary_df[\"Current Doctors per 1000\"].var()"
   ],
   "metadata": {
    "collapsed": false,
    "ExecuteTime": {
     "end_time": "2024-05-21T19:08:02.473808100Z",
     "start_time": "2024-05-21T19:08:02.456292900Z"
    }
   },
   "id": "d31d6accadf566e",
   "execution_count": 12
  },
  {
   "cell_type": "code",
   "outputs": [
    {
     "data": {
      "text/plain": "6.160635550516481e-05"
     },
     "execution_count": 13,
     "metadata": {},
     "output_type": "execute_result"
    }
   ],
   "source": [
    "summary_df[\"Final Doctors per 1000\"].var()"
   ],
   "metadata": {
    "collapsed": false,
    "ExecuteTime": {
     "end_time": "2024-05-21T19:08:23.151546900Z",
     "start_time": "2024-05-21T19:08:23.133515500Z"
    }
   },
   "id": "5cf9f507dc72be96",
   "execution_count": 13
  },
  {
   "cell_type": "markdown",
   "source": [
    "### calculate fair allocation of doctors in a mock set up of 10 authorities - take into account the distances between authorities:\n",
    "(there is a bug in this code as the inital allocation is identical to the final allocation)c"
   ],
   "metadata": {
    "collapsed": false
   },
   "id": "7d42b9848269cb14"
  },
  {
   "cell_type": "code",
   "outputs": [
    {
     "data": {
      "text/plain": "  Authority  Population  Current Doctors  Initial Allocation  \\\n0        A1       50000               10                  10   \n9       A10       60000               12                  12   \n1        A2       70000               15                  14   \n2        A3       30000                7                   6   \n3        A4       40000                8                   8   \n4        A5       60000               12                  13   \n5        A6       50000               10                  11   \n6        A7       80000               18                  17   \n7        A8       45000                9                  10   \n8        A9       55000               11                  11   \n\n   Final Allocation  Current Doctors per 1000  Final Doctors per 1000  \n0                10                  0.200000                0.200000  \n9                12                  0.200000                0.200000  \n1                14                  0.214286                0.200000  \n2                 6                  0.233333                0.200000  \n3                 8                  0.200000                0.200000  \n4                13                  0.200000                0.216667  \n5                11                  0.200000                0.220000  \n6                17                  0.225000                0.212500  \n7                10                  0.200000                0.222222  \n8                11                  0.200000                0.200000  ",
      "text/html": "<div>\n<style scoped>\n    .dataframe tbody tr th:only-of-type {\n        vertical-align: middle;\n    }\n\n    .dataframe tbody tr th {\n        vertical-align: top;\n    }\n\n    .dataframe thead th {\n        text-align: right;\n    }\n</style>\n<table border=\"1\" class=\"dataframe\">\n  <thead>\n    <tr style=\"text-align: right;\">\n      <th></th>\n      <th>Authority</th>\n      <th>Population</th>\n      <th>Current Doctors</th>\n      <th>Initial Allocation</th>\n      <th>Final Allocation</th>\n      <th>Current Doctors per 1000</th>\n      <th>Final Doctors per 1000</th>\n    </tr>\n  </thead>\n  <tbody>\n    <tr>\n      <th>0</th>\n      <td>A1</td>\n      <td>50000</td>\n      <td>10</td>\n      <td>10</td>\n      <td>10</td>\n      <td>0.200000</td>\n      <td>0.200000</td>\n    </tr>\n    <tr>\n      <th>9</th>\n      <td>A10</td>\n      <td>60000</td>\n      <td>12</td>\n      <td>12</td>\n      <td>12</td>\n      <td>0.200000</td>\n      <td>0.200000</td>\n    </tr>\n    <tr>\n      <th>1</th>\n      <td>A2</td>\n      <td>70000</td>\n      <td>15</td>\n      <td>14</td>\n      <td>14</td>\n      <td>0.214286</td>\n      <td>0.200000</td>\n    </tr>\n    <tr>\n      <th>2</th>\n      <td>A3</td>\n      <td>30000</td>\n      <td>7</td>\n      <td>6</td>\n      <td>6</td>\n      <td>0.233333</td>\n      <td>0.200000</td>\n    </tr>\n    <tr>\n      <th>3</th>\n      <td>A4</td>\n      <td>40000</td>\n      <td>8</td>\n      <td>8</td>\n      <td>8</td>\n      <td>0.200000</td>\n      <td>0.200000</td>\n    </tr>\n    <tr>\n      <th>4</th>\n      <td>A5</td>\n      <td>60000</td>\n      <td>12</td>\n      <td>13</td>\n      <td>13</td>\n      <td>0.200000</td>\n      <td>0.216667</td>\n    </tr>\n    <tr>\n      <th>5</th>\n      <td>A6</td>\n      <td>50000</td>\n      <td>10</td>\n      <td>11</td>\n      <td>11</td>\n      <td>0.200000</td>\n      <td>0.220000</td>\n    </tr>\n    <tr>\n      <th>6</th>\n      <td>A7</td>\n      <td>80000</td>\n      <td>18</td>\n      <td>17</td>\n      <td>17</td>\n      <td>0.225000</td>\n      <td>0.212500</td>\n    </tr>\n    <tr>\n      <th>7</th>\n      <td>A8</td>\n      <td>45000</td>\n      <td>9</td>\n      <td>10</td>\n      <td>10</td>\n      <td>0.200000</td>\n      <td>0.222222</td>\n    </tr>\n    <tr>\n      <th>8</th>\n      <td>A9</td>\n      <td>55000</td>\n      <td>11</td>\n      <td>11</td>\n      <td>11</td>\n      <td>0.200000</td>\n      <td>0.200000</td>\n    </tr>\n  </tbody>\n</table>\n</div>"
     },
     "execution_count": 16,
     "metadata": {},
     "output_type": "execute_result"
    }
   ],
   "source": [
    "import pandas as pd\n",
    "import numpy as np\n",
    "\n",
    "# Sample data with a different initial number of doctors\n",
    "data = {\n",
    "    'Authority': ['A1', 'A2', 'A3', 'A4', 'A5', 'A6', 'A7', 'A8', 'A9', 'A10'],\n",
    "    'Population': [50000, 70000, 30000, 40000, 60000, 50000, 80000, 45000, 55000, 60000],\n",
    "    'Current Doctors': [10, 15, 7, 8, 12, 10, 18, 9, 11, 12]\n",
    "}\n",
    "\n",
    "# Distance matrix (example distances in km)\n",
    "distances = pd.DataFrame({\n",
    "    'A1': [0, 10, 20, 30, 40, 50, 60, 70, 80, 90],\n",
    "    'A2': [10, 0, 15, 25, 35, 45, 55, 65, 75, 85],\n",
    "    'A3': [20, 15, 0, 10, 20, 30, 40, 50, 60, 70],\n",
    "    'A4': [30, 25, 10, 0, 10, 20, 30, 40, 50, 60],\n",
    "    'A5': [40, 35, 20, 10, 0, 10, 20, 30, 40, 50],\n",
    "    'A6': [50, 45, 30, 20, 10, 0, 10, 20, 30, 40],\n",
    "    'A7': [60, 55, 40, 30, 20, 10, 0, 10, 20, 30],\n",
    "    'A8': [70, 65, 50, 40, 30, 20, 10, 0, 10, 20],\n",
    "    'A9': [80, 75, 60, 50, 40, 30, 20, 10, 0, 10],\n",
    "    'A10': [90, 85, 70, 60, 50, 40, 30, 20, 10, 0]\n",
    "}, index=['A1', 'A2', 'A3', 'A4', 'A5', 'A6', 'A7', 'A8', 'A9', 'A10'])\n",
    "\n",
    "df = pd.DataFrame(data)\n",
    "\n",
    "# Calculate total population and total number of doctors\n",
    "total_population = df['Population'].sum()\n",
    "total_doctors = df['Current Doctors'].sum()\n",
    "\n",
    "# Calculate ideal number of doctors\n",
    "df['Ideal Doctors'] = (df['Population'] / total_population) * total_doctors\n",
    "\n",
    "# Adjust population based on accessibility\n",
    "accessibility_factor = 0.1  # Example factor to weight the distance effect\n",
    "\n",
    "def adjusted_population(row):\n",
    "    authority = row['Authority']\n",
    "    neighbors = distances.loc[authority]\n",
    "    # Invert distances for accessibility (shorter distance = higher accessibility)\n",
    "    accessibility = (1 / (neighbors + 1))  # +1 to avoid division by zero\n",
    "    accessibility_score = (df.set_index('Authority').loc[neighbors.index, 'Population'] * accessibility).sum()\n",
    "    return row['Population'] + accessibility_factor * accessibility_score\n",
    "\n",
    "df['Adjusted Population'] = df.apply(adjusted_population, axis=1)\n",
    "adjusted_total_population = df['Adjusted Population'].sum()\n",
    "\n",
    "# Calculate adjusted ideal number of doctors\n",
    "df['Adjusted Ideal Doctors'] = (df['Adjusted Population'] / adjusted_total_population) * total_doctors\n",
    "\n",
    "# Initial allocation (floor of adjusted ideal doctors)\n",
    "df['Initial Allocation'] = np.floor(df['Adjusted Ideal Doctors']).astype(int)\n",
    "\n",
    "# Calculate remaining doctors to be assigned\n",
    "remaining_doctors = total_doctors - df['Initial Allocation'].sum()\n",
    "\n",
    "# Calculate remainders\n",
    "df['Remainder'] = df['Adjusted Ideal Doctors'] - df['Initial Allocation']\n",
    "\n",
    "# Distribute remaining doctors based on largest remainders\n",
    "df = df.sort_values(by='Remainder', ascending=False)\n",
    "df.iloc[:remaining_doctors, df.columns.get_loc('Initial Allocation')] += 1\n",
    "\n",
    "# Final allocation\n",
    "df = df.sort_values(by='Authority')\n",
    "df['Final Allocation'] = df['Initial Allocation']\n",
    "\n",
    "# Calculate doctors per 1000 people\n",
    "df['Current Doctors per 1000'] = (df['Current Doctors'] / df['Population']) * 1000\n",
    "df['Final Doctors per 1000'] = (df['Final Allocation'] / df['Population']) * 1000\n",
    "\n",
    "# Create summary dataframe\n",
    "summary_df = df[['Authority', 'Population', 'Current Doctors', 'Initial Allocation', 'Final Allocation', 'Current Doctors per 1000', 'Final Doctors per 1000']].copy()\n",
    "\n",
    "# import ace_tools as tools; tools.display_dataframe_to_user(name=\"Doctor Allocation Summary with Accessibility\", dataframe=summary_df)\n",
    "\n",
    "summary_df\n"
   ],
   "metadata": {
    "collapsed": false,
    "ExecuteTime": {
     "end_time": "2024-05-21T19:14:03.225084200Z",
     "start_time": "2024-05-21T19:14:03.167546800Z"
    }
   },
   "id": "cd29eeec91ebaf5b",
   "execution_count": 16
  },
  {
   "cell_type": "markdown",
   "source": [
    "### calculate fair allocation of doctors in a mock set up of 10 authorities - take into account the distances between authorities:\n",
    "(there is a bug in this code as the inital allocation is identical to the final allocation)"
   ],
   "metadata": {
    "collapsed": false
   },
   "id": "4462c4e14acd4fd3"
  },
  {
   "cell_type": "code",
   "outputs": [
    {
     "data": {
      "text/plain": "   Authority  Population  Current Doctors  Initial Allocation  \\\n0         A1       16795               24                   9   \n9        A10       61263               35                  31   \n99      A100        3568               15                   2   \n10       A11       17023               33                  10   \n11       A12       42090                5                  21   \n..       ...         ...              ...                 ...   \n94       A95       39044               37                  19   \n95       A96       52214               33                  26   \n96       A97       62228               42                  30   \n97       A98       49984               44                  24   \n98       A99       41774               24                  20   \n\n    Final Allocation  Current Doctors per 1000  Final Doctors per 1000  \n0                  9                  1.428997                0.535874  \n9                 31                  0.571307                0.506015  \n99                 2                  4.204036                0.560538  \n10                10                  1.938554                0.587441  \n11                21                  0.118793                0.498931  \n..               ...                       ...                     ...  \n94                19                  0.947649                0.486630  \n95                26                  0.632014                0.497951  \n96                30                  0.674937                0.482098  \n97                24                  0.880282                0.480154  \n98                20                  0.574520                0.478767  \n\n[100 rows x 7 columns]",
      "text/html": "<div>\n<style scoped>\n    .dataframe tbody tr th:only-of-type {\n        vertical-align: middle;\n    }\n\n    .dataframe tbody tr th {\n        vertical-align: top;\n    }\n\n    .dataframe thead th {\n        text-align: right;\n    }\n</style>\n<table border=\"1\" class=\"dataframe\">\n  <thead>\n    <tr style=\"text-align: right;\">\n      <th></th>\n      <th>Authority</th>\n      <th>Population</th>\n      <th>Current Doctors</th>\n      <th>Initial Allocation</th>\n      <th>Final Allocation</th>\n      <th>Current Doctors per 1000</th>\n      <th>Final Doctors per 1000</th>\n    </tr>\n  </thead>\n  <tbody>\n    <tr>\n      <th>0</th>\n      <td>A1</td>\n      <td>16795</td>\n      <td>24</td>\n      <td>9</td>\n      <td>9</td>\n      <td>1.428997</td>\n      <td>0.535874</td>\n    </tr>\n    <tr>\n      <th>9</th>\n      <td>A10</td>\n      <td>61263</td>\n      <td>35</td>\n      <td>31</td>\n      <td>31</td>\n      <td>0.571307</td>\n      <td>0.506015</td>\n    </tr>\n    <tr>\n      <th>99</th>\n      <td>A100</td>\n      <td>3568</td>\n      <td>15</td>\n      <td>2</td>\n      <td>2</td>\n      <td>4.204036</td>\n      <td>0.560538</td>\n    </tr>\n    <tr>\n      <th>10</th>\n      <td>A11</td>\n      <td>17023</td>\n      <td>33</td>\n      <td>10</td>\n      <td>10</td>\n      <td>1.938554</td>\n      <td>0.587441</td>\n    </tr>\n    <tr>\n      <th>11</th>\n      <td>A12</td>\n      <td>42090</td>\n      <td>5</td>\n      <td>21</td>\n      <td>21</td>\n      <td>0.118793</td>\n      <td>0.498931</td>\n    </tr>\n    <tr>\n      <th>...</th>\n      <td>...</td>\n      <td>...</td>\n      <td>...</td>\n      <td>...</td>\n      <td>...</td>\n      <td>...</td>\n      <td>...</td>\n    </tr>\n    <tr>\n      <th>94</th>\n      <td>A95</td>\n      <td>39044</td>\n      <td>37</td>\n      <td>19</td>\n      <td>19</td>\n      <td>0.947649</td>\n      <td>0.486630</td>\n    </tr>\n    <tr>\n      <th>95</th>\n      <td>A96</td>\n      <td>52214</td>\n      <td>33</td>\n      <td>26</td>\n      <td>26</td>\n      <td>0.632014</td>\n      <td>0.497951</td>\n    </tr>\n    <tr>\n      <th>96</th>\n      <td>A97</td>\n      <td>62228</td>\n      <td>42</td>\n      <td>30</td>\n      <td>30</td>\n      <td>0.674937</td>\n      <td>0.482098</td>\n    </tr>\n    <tr>\n      <th>97</th>\n      <td>A98</td>\n      <td>49984</td>\n      <td>44</td>\n      <td>24</td>\n      <td>24</td>\n      <td>0.880282</td>\n      <td>0.480154</td>\n    </tr>\n    <tr>\n      <th>98</th>\n      <td>A99</td>\n      <td>41774</td>\n      <td>24</td>\n      <td>20</td>\n      <td>20</td>\n      <td>0.574520</td>\n      <td>0.478767</td>\n    </tr>\n  </tbody>\n</table>\n<p>100 rows × 7 columns</p>\n</div>"
     },
     "execution_count": 21,
     "metadata": {},
     "output_type": "execute_result"
    }
   ],
   "source": [
    "import pandas as pd\n",
    "import numpy as np\n",
    "\n",
    "# Generate sample data for 100 authorities\n",
    "np.random.seed(42)\n",
    "authorities = [f'A{i}' for i in range(1, 101)]\n",
    "populations = np.random.randint(1000, 100000, size=100)\n",
    "current_doctors = np.random.randint(1, 50, size=100)\n",
    "\n",
    "data = {\n",
    "    'Authority': authorities,\n",
    "    'Population': populations,\n",
    "    'Current Doctors': current_doctors\n",
    "}\n",
    "\n",
    "# Generate a random distance matrix with significant variations\n",
    "distances = np.random.randint(1, 1000, size=(100, 100))\n",
    "np.fill_diagonal(distances, 0)\n",
    "distances = pd.DataFrame(distances, index=authorities, columns=authorities)\n",
    "\n",
    "df = pd.DataFrame(data)\n",
    "\n",
    "# Calculate total population and total number of doctors\n",
    "total_population = df['Population'].sum()\n",
    "total_doctors = df['Current Doctors'].sum()\n",
    "\n",
    "# Calculate ideal number of doctors\n",
    "df['Ideal Doctors'] = (df['Population'] / total_population) * total_doctors\n",
    "\n",
    "# Adjust population based on accessibility\n",
    "accessibility_factor = 0.1  # Example factor to weight the distance effect\n",
    "\n",
    "def adjusted_population(row):\n",
    "    authority = row['Authority']\n",
    "    neighbors = distances.loc[authority]\n",
    "    # Invert distances for accessibility (shorter distance = higher accessibility)\n",
    "    accessibility = (1 / (neighbors + 1))  # +1 to avoid division by zero\n",
    "    accessibility_score = (df.set_index('Authority').loc[neighbors.index, 'Population'] * accessibility).sum()\n",
    "    return row['Population'] + accessibility_factor * accessibility_score\n",
    "\n",
    "df['Adjusted Population'] = df.apply(adjusted_population, axis=1)\n",
    "adjusted_total_population = df['Adjusted Population'].sum()\n",
    "\n",
    "# Calculate adjusted ideal number of doctors\n",
    "df['Adjusted Ideal Doctors'] = (df['Adjusted Population'] / adjusted_total_population) * total_doctors\n",
    "\n",
    "# Initial allocation (floor of adjusted ideal doctors)\n",
    "df['Initial Allocation'] = np.floor(df['Adjusted Ideal Doctors']).astype(int)\n",
    "\n",
    "# Calculate remaining doctors to be assigned\n",
    "remaining_doctors = total_doctors - df['Initial Allocation'].sum()\n",
    "\n",
    "# Calculate remainders\n",
    "df['Remainder'] = df['Adjusted Ideal Doctors'] - df['Initial Allocation']\n",
    "\n",
    "# Distribute remaining doctors based on largest remainders\n",
    "df = df.sort_values(by='Remainder', ascending=False)\n",
    "df.iloc[:remaining_doctors, df.columns.get_loc('Initial Allocation')] += 1\n",
    "\n",
    "# Final allocation\n",
    "df = df.sort_values(by='Authority')\n",
    "df['Final Allocation'] = df['Initial Allocation']\n",
    "\n",
    "# Calculate doctors per 1000 people\n",
    "df['Current Doctors per 1000'] = (df['Current Doctors'] / df['Population']) * 1000\n",
    "df['Final Doctors per 1000'] = (df['Final Allocation'] / df['Population']) * 1000\n",
    "\n",
    "# Create summary dataframe\n",
    "summary_df = df[['Authority', 'Population', 'Current Doctors', 'Initial Allocation', 'Final Allocation', 'Current Doctors per 1000', 'Final Doctors per 1000']].copy()\n",
    "\n",
    "# import ace_tools as tools; tools.display_dataframe_to_user(name=\"Doctor Allocation Summary with Accessibility\", dataframe=summary_df)\n",
    "\n",
    "summary_df\n"
   ],
   "metadata": {
    "collapsed": false
   },
   "id": "86b348d311581123",
   "execution_count": 21
  },
  {
   "cell_type": "code",
   "outputs": [
    {
     "data": {
      "text/plain": "6.326196949968779"
     },
     "execution_count": 22,
     "metadata": {},
     "output_type": "execute_result"
    }
   ],
   "source": [
    "summary_df[\"Current Doctors per 1000\"].var()"
   ],
   "metadata": {
    "collapsed": false,
    "ExecuteTime": {
     "end_time": "2024-05-21T19:20:43.281532Z",
     "start_time": "2024-05-21T19:20:43.263689400Z"
    }
   },
   "id": "58eedc7d36a7c0df",
   "execution_count": 22
  },
  {
   "cell_type": "markdown",
   "source": [],
   "metadata": {
    "collapsed": false
   },
   "id": "3954cc0d29067955"
  },
  {
   "cell_type": "code",
   "outputs": [
    {
     "data": {
      "text/plain": "0.021226084500394905"
     },
     "execution_count": 23,
     "metadata": {},
     "output_type": "execute_result"
    }
   ],
   "source": [
    "\n",
    "summary_df[\"Final Doctors per 1000\"].var()"
   ],
   "metadata": {
    "collapsed": false,
    "ExecuteTime": {
     "end_time": "2024-05-21T19:20:46.583072100Z",
     "start_time": "2024-05-21T19:20:46.573792300Z"
    }
   },
   "id": "73ff5d90e979a490",
   "execution_count": 23
  },
  {
   "cell_type": "code",
   "outputs": [
    {
     "data": {
      "text/plain": "0"
     },
     "execution_count": 24,
     "metadata": {},
     "output_type": "execute_result"
    }
   ],
   "source": [
    "(summary_df[\"Initial Allocation\"] - summary_df[\"Final Allocation\"]).max()"
   ],
   "metadata": {
    "collapsed": false,
    "ExecuteTime": {
     "end_time": "2024-05-21T19:21:27.009872200Z",
     "start_time": "2024-05-21T19:21:26.961796900Z"
    }
   },
   "id": "6f09a5ad8b6bad4f",
   "execution_count": 24
  },
  {
   "cell_type": "markdown",
   "source": [
    "### calculate fair allocation of doctors in a mock set up of 10 authorities - take into account the distances between authorities:\n",
    "(the bug is now fixed)"
   ],
   "metadata": {
    "collapsed": false
   },
   "id": "e18d84f36ab00cee"
  },
  {
   "cell_type": "code",
   "outputs": [
    {
     "data": {
      "text/plain": "   Authority  Population  Current Doctors  Initial Allocation  \\\n0         A1       16795               24                   9   \n9        A10       61263               35                  30   \n99      A100        3568               15                   2   \n10       A11       17023               33                  10   \n11       A12       42090                5                  20   \n..       ...         ...              ...                 ...   \n94       A95       39044               37                  18   \n95       A96       52214               33                  26   \n96       A97       62228               42                  30   \n97       A98       49984               44                  24   \n98       A99       41774               24                  20   \n\n    Final Allocation  Current Doctors per 1000  Final Doctors per 1000  \n0                  9                  1.428997                0.535874  \n9                 31                  0.571307                0.506015  \n99                 2                  4.204036                0.560538  \n10                10                  1.938554                0.587441  \n11                21                  0.118793                0.498931  \n..               ...                       ...                     ...  \n94                19                  0.947649                0.486630  \n95                26                  0.632014                0.497951  \n96                30                  0.674937                0.482098  \n97                24                  0.880282                0.480154  \n98                20                  0.574520                0.478767  \n\n[100 rows x 7 columns]",
      "text/html": "<div>\n<style scoped>\n    .dataframe tbody tr th:only-of-type {\n        vertical-align: middle;\n    }\n\n    .dataframe tbody tr th {\n        vertical-align: top;\n    }\n\n    .dataframe thead th {\n        text-align: right;\n    }\n</style>\n<table border=\"1\" class=\"dataframe\">\n  <thead>\n    <tr style=\"text-align: right;\">\n      <th></th>\n      <th>Authority</th>\n      <th>Population</th>\n      <th>Current Doctors</th>\n      <th>Initial Allocation</th>\n      <th>Final Allocation</th>\n      <th>Current Doctors per 1000</th>\n      <th>Final Doctors per 1000</th>\n    </tr>\n  </thead>\n  <tbody>\n    <tr>\n      <th>0</th>\n      <td>A1</td>\n      <td>16795</td>\n      <td>24</td>\n      <td>9</td>\n      <td>9</td>\n      <td>1.428997</td>\n      <td>0.535874</td>\n    </tr>\n    <tr>\n      <th>9</th>\n      <td>A10</td>\n      <td>61263</td>\n      <td>35</td>\n      <td>30</td>\n      <td>31</td>\n      <td>0.571307</td>\n      <td>0.506015</td>\n    </tr>\n    <tr>\n      <th>99</th>\n      <td>A100</td>\n      <td>3568</td>\n      <td>15</td>\n      <td>2</td>\n      <td>2</td>\n      <td>4.204036</td>\n      <td>0.560538</td>\n    </tr>\n    <tr>\n      <th>10</th>\n      <td>A11</td>\n      <td>17023</td>\n      <td>33</td>\n      <td>10</td>\n      <td>10</td>\n      <td>1.938554</td>\n      <td>0.587441</td>\n    </tr>\n    <tr>\n      <th>11</th>\n      <td>A12</td>\n      <td>42090</td>\n      <td>5</td>\n      <td>20</td>\n      <td>21</td>\n      <td>0.118793</td>\n      <td>0.498931</td>\n    </tr>\n    <tr>\n      <th>...</th>\n      <td>...</td>\n      <td>...</td>\n      <td>...</td>\n      <td>...</td>\n      <td>...</td>\n      <td>...</td>\n      <td>...</td>\n    </tr>\n    <tr>\n      <th>94</th>\n      <td>A95</td>\n      <td>39044</td>\n      <td>37</td>\n      <td>18</td>\n      <td>19</td>\n      <td>0.947649</td>\n      <td>0.486630</td>\n    </tr>\n    <tr>\n      <th>95</th>\n      <td>A96</td>\n      <td>52214</td>\n      <td>33</td>\n      <td>26</td>\n      <td>26</td>\n      <td>0.632014</td>\n      <td>0.497951</td>\n    </tr>\n    <tr>\n      <th>96</th>\n      <td>A97</td>\n      <td>62228</td>\n      <td>42</td>\n      <td>30</td>\n      <td>30</td>\n      <td>0.674937</td>\n      <td>0.482098</td>\n    </tr>\n    <tr>\n      <th>97</th>\n      <td>A98</td>\n      <td>49984</td>\n      <td>44</td>\n      <td>24</td>\n      <td>24</td>\n      <td>0.880282</td>\n      <td>0.480154</td>\n    </tr>\n    <tr>\n      <th>98</th>\n      <td>A99</td>\n      <td>41774</td>\n      <td>24</td>\n      <td>20</td>\n      <td>20</td>\n      <td>0.574520</td>\n      <td>0.478767</td>\n    </tr>\n  </tbody>\n</table>\n<p>100 rows × 7 columns</p>\n</div>"
     },
     "execution_count": 28,
     "metadata": {},
     "output_type": "execute_result"
    }
   ],
   "source": [
    "import pandas as pd\n",
    "import numpy as np\n",
    "\n",
    "# Generate sample data for 100 authorities\n",
    "np.random.seed(42)\n",
    "authorities = [f'A{i}' for i in range(1, 101)]\n",
    "populations = np.random.randint(1000, 100000, size=100)\n",
    "current_doctors = np.random.randint(1, 50, size=100)\n",
    "\n",
    "data = {\n",
    "    'Authority': authorities,\n",
    "    'Population': populations,\n",
    "    'Current Doctors': current_doctors\n",
    "}\n",
    "\n",
    "# Generate a random distance matrix with significant variations\n",
    "distances = np.random.randint(1, 1000, size=(100, 100))\n",
    "np.fill_diagonal(distances, 0)\n",
    "distances = pd.DataFrame(distances, index=authorities, columns=authorities)\n",
    "\n",
    "df = pd.DataFrame(data)\n",
    "\n",
    "# Calculate total population and total number of doctors\n",
    "total_population = df['Population'].sum()\n",
    "total_doctors = df['Current Doctors'].sum()\n",
    "\n",
    "# Calculate ideal number of doctors\n",
    "df['Ideal Doctors'] = (df['Population'] / total_population) * total_doctors\n",
    "\n",
    "# Adjust population based on accessibility\n",
    "accessibility_factor = 0.1  # Example factor to weight the distance effect\n",
    "\n",
    "def adjusted_population(row):\n",
    "    authority = row['Authority']\n",
    "    neighbors = distances.loc[authority]\n",
    "    # Invert distances for accessibility (shorter distance = higher accessibility)\n",
    "    accessibility = (1 / (neighbors + 1))  # +1 to avoid division by zero\n",
    "    accessibility_score = (df.set_index('Authority').loc[neighbors.index, 'Population'] * accessibility).sum()\n",
    "    return row['Population'] + accessibility_factor * accessibility_score\n",
    "\n",
    "df['Adjusted Population'] = df.apply(adjusted_population, axis=1)\n",
    "adjusted_total_population = df['Adjusted Population'].sum()\n",
    "\n",
    "# Calculate adjusted ideal number of doctors\n",
    "df['Adjusted Ideal Doctors'] = (df['Adjusted Population'] / adjusted_total_population) * total_doctors\n",
    "\n",
    "# Initial allocation (floor of adjusted ideal doctors)\n",
    "df['Initial Allocation'] = np.floor(df['Adjusted Ideal Doctors']).astype(int)\n",
    "\n",
    "# Calculate remaining doctors to be assigned\n",
    "remaining_doctors = total_doctors - df['Initial Allocation'].sum()\n",
    "\n",
    "# Calculate remainders\n",
    "df['Remainder'] = df['Adjusted Ideal Doctors'] - df['Initial Allocation']\n",
    "\n",
    "# Distribute remaining doctors based on largest remainders\n",
    "df = df.sort_values(by='Remainder', ascending=False)\n",
    "df['Final Allocation'] = df['Initial Allocation'].copy()\n",
    "\n",
    "for i in range(remaining_doctors):\n",
    "    df.iloc[i, df.columns.get_loc('Final Allocation')] += 1\n",
    "\n",
    "# Final allocation sorted by authority\n",
    "df = df.sort_values(by='Authority')\n",
    "\n",
    "# Calculate doctors per 1000 people\n",
    "df['Current Doctors per 1000'] = (df['Current Doctors'] / df['Population']) * 1000\n",
    "df['Final Doctors per 1000'] = (df['Final Allocation'] / df['Population']) * 1000\n",
    "\n",
    "# Create summary dataframe\n",
    "summary_df = df[['Authority', 'Population', 'Current Doctors', 'Initial Allocation', 'Final Allocation', 'Current Doctors per 1000', 'Final Doctors per 1000']].copy()\n",
    "\n",
    "# import ace_tools as tools; tools.display_dataframe_to_user(name=\"Doctor Allocation Summary with Accessibility\", dataframe=summary_df)\n",
    "\n",
    "summary_df\n"
   ],
   "metadata": {
    "collapsed": false,
    "ExecuteTime": {
     "end_time": "2024-05-21T19:28:30.124963700Z",
     "start_time": "2024-05-21T19:28:29.946567800Z"
    }
   },
   "id": "bc087f0593a7f3ac",
   "execution_count": 28
  },
  {
   "cell_type": "code",
   "outputs": [
    {
     "data": {
      "text/plain": "6.326196949968779"
     },
     "execution_count": 30,
     "metadata": {},
     "output_type": "execute_result"
    }
   ],
   "source": [
    "summary_df[\"Current Doctors per 1000\"].var()"
   ],
   "metadata": {
    "collapsed": false,
    "ExecuteTime": {
     "end_time": "2024-05-21T19:29:30.610952800Z",
     "start_time": "2024-05-21T19:29:30.593948900Z"
    }
   },
   "id": "d4a15676c9514f50",
   "execution_count": 30
  },
  {
   "cell_type": "code",
   "outputs": [
    {
     "data": {
      "text/plain": "0.021226084500394905"
     },
     "execution_count": 31,
     "metadata": {},
     "output_type": "execute_result"
    }
   ],
   "source": [
    "summary_df[\"Final Doctors per 1000\"].var()"
   ],
   "metadata": {
    "collapsed": false,
    "ExecuteTime": {
     "end_time": "2024-05-21T19:29:31.421945500Z",
     "start_time": "2024-05-21T19:29:31.393553100Z"
    }
   },
   "id": "ccc8c2d5f948613a",
   "execution_count": 31
  },
  {
   "cell_type": "markdown",
   "source": [
    "### calculate fair allocation of doctors in a mock set up of 10 authorities - take into account the distances between authorities:\n",
    "(use linear programming to solve)"
   ],
   "metadata": {
    "collapsed": false
   },
   "id": "12002c500cf81a76"
  },
  {
   "cell_type": "code",
   "outputs": [
    {
     "data": {
      "text/plain": "   Authority  Population  Current Doctors  Adjusted Ideal Doctors  \\\n0         A1       16795               24                9.433955   \n1         A2        1860                1                3.450288   \n2         A3       77820               44               37.091092   \n3         A4       55886                8               27.074164   \n4         A5        7265               24                4.436749   \n..       ...         ...              ...                     ...   \n95       A96       52214               33               26.444532   \n96       A97       62228               42               30.094445   \n97       A98       49984               44               24.196616   \n98       A99       41774               24               20.304867   \n99      A100        3568               15                2.469980   \n\n    Final Allocation  Current Doctors per 1000  Final Doctors per 1000  \n0                  9                  1.428997                0.535874  \n1                  3                  0.537634                1.612903  \n2                 37                  0.565407                0.475456  \n3                 27                  0.143149                0.483126  \n4                  4                  3.303510                0.550585  \n..               ...                       ...                     ...  \n95                27                  0.632014                0.517103  \n96                31                  0.674937                0.498168  \n97                25                  0.880282                0.500160  \n98                21                  0.574520                0.502705  \n99                 3                  4.204036                0.840807  \n\n[100 rows x 7 columns]",
      "text/html": "<div>\n<style scoped>\n    .dataframe tbody tr th:only-of-type {\n        vertical-align: middle;\n    }\n\n    .dataframe tbody tr th {\n        vertical-align: top;\n    }\n\n    .dataframe thead th {\n        text-align: right;\n    }\n</style>\n<table border=\"1\" class=\"dataframe\">\n  <thead>\n    <tr style=\"text-align: right;\">\n      <th></th>\n      <th>Authority</th>\n      <th>Population</th>\n      <th>Current Doctors</th>\n      <th>Adjusted Ideal Doctors</th>\n      <th>Final Allocation</th>\n      <th>Current Doctors per 1000</th>\n      <th>Final Doctors per 1000</th>\n    </tr>\n  </thead>\n  <tbody>\n    <tr>\n      <th>0</th>\n      <td>A1</td>\n      <td>16795</td>\n      <td>24</td>\n      <td>9.433955</td>\n      <td>9</td>\n      <td>1.428997</td>\n      <td>0.535874</td>\n    </tr>\n    <tr>\n      <th>1</th>\n      <td>A2</td>\n      <td>1860</td>\n      <td>1</td>\n      <td>3.450288</td>\n      <td>3</td>\n      <td>0.537634</td>\n      <td>1.612903</td>\n    </tr>\n    <tr>\n      <th>2</th>\n      <td>A3</td>\n      <td>77820</td>\n      <td>44</td>\n      <td>37.091092</td>\n      <td>37</td>\n      <td>0.565407</td>\n      <td>0.475456</td>\n    </tr>\n    <tr>\n      <th>3</th>\n      <td>A4</td>\n      <td>55886</td>\n      <td>8</td>\n      <td>27.074164</td>\n      <td>27</td>\n      <td>0.143149</td>\n      <td>0.483126</td>\n    </tr>\n    <tr>\n      <th>4</th>\n      <td>A5</td>\n      <td>7265</td>\n      <td>24</td>\n      <td>4.436749</td>\n      <td>4</td>\n      <td>3.303510</td>\n      <td>0.550585</td>\n    </tr>\n    <tr>\n      <th>...</th>\n      <td>...</td>\n      <td>...</td>\n      <td>...</td>\n      <td>...</td>\n      <td>...</td>\n      <td>...</td>\n      <td>...</td>\n    </tr>\n    <tr>\n      <th>95</th>\n      <td>A96</td>\n      <td>52214</td>\n      <td>33</td>\n      <td>26.444532</td>\n      <td>27</td>\n      <td>0.632014</td>\n      <td>0.517103</td>\n    </tr>\n    <tr>\n      <th>96</th>\n      <td>A97</td>\n      <td>62228</td>\n      <td>42</td>\n      <td>30.094445</td>\n      <td>31</td>\n      <td>0.674937</td>\n      <td>0.498168</td>\n    </tr>\n    <tr>\n      <th>97</th>\n      <td>A98</td>\n      <td>49984</td>\n      <td>44</td>\n      <td>24.196616</td>\n      <td>25</td>\n      <td>0.880282</td>\n      <td>0.500160</td>\n    </tr>\n    <tr>\n      <th>98</th>\n      <td>A99</td>\n      <td>41774</td>\n      <td>24</td>\n      <td>20.304867</td>\n      <td>21</td>\n      <td>0.574520</td>\n      <td>0.502705</td>\n    </tr>\n    <tr>\n      <th>99</th>\n      <td>A100</td>\n      <td>3568</td>\n      <td>15</td>\n      <td>2.469980</td>\n      <td>3</td>\n      <td>4.204036</td>\n      <td>0.840807</td>\n    </tr>\n  </tbody>\n</table>\n<p>100 rows × 7 columns</p>\n</div>"
     },
     "execution_count": 32,
     "metadata": {},
     "output_type": "execute_result"
    }
   ],
   "source": [
    "import pandas as pd\n",
    "import numpy as np\n",
    "from scipy.optimize import linprog\n",
    "\n",
    "# Generate sample data for 100 authorities\n",
    "np.random.seed(42)\n",
    "authorities = [f'A{i}' for i in range(1, 101)]\n",
    "populations = np.random.randint(1000, 100000, size=100)\n",
    "current_doctors = np.random.randint(1, 50, size=100)\n",
    "\n",
    "data = {\n",
    "    'Authority': authorities,\n",
    "    'Population': populations,\n",
    "    'Current Doctors': current_doctors\n",
    "}\n",
    "\n",
    "# Generate a random distance matrix with significant variations\n",
    "distances = np.random.randint(1, 1000, size=(100, 100))\n",
    "np.fill_diagonal(distances, 0)\n",
    "distances = pd.DataFrame(distances, index=authorities, columns=authorities)\n",
    "\n",
    "df = pd.DataFrame(data)\n",
    "\n",
    "# Calculate total population and total number of doctors\n",
    "total_population = df['Population'].sum()\n",
    "total_doctors = df['Current Doctors'].sum()\n",
    "\n",
    "# Calculate ideal number of doctors\n",
    "df['Ideal Doctors'] = (df['Population'] / total_population) * total_doctors\n",
    "\n",
    "# Adjust population based on accessibility\n",
    "accessibility_factor = 0.1  # Example factor to weight the distance effect\n",
    "\n",
    "def adjusted_population(row):\n",
    "    authority = row['Authority']\n",
    "    neighbors = distances.loc[authority]\n",
    "    # Invert distances for accessibility (shorter distance = higher accessibility)\n",
    "    accessibility = (1 / (neighbors + 1))  # +1 to avoid division by zero\n",
    "    accessibility_score = (df.set_index('Authority').loc[neighbors.index, 'Population'] * accessibility).sum()\n",
    "    return row['Population'] + accessibility_factor * accessibility_score\n",
    "\n",
    "df['Adjusted Population'] = df.apply(adjusted_population, axis=1)\n",
    "adjusted_total_population = df['Adjusted Population'].sum()\n",
    "\n",
    "# Calculate adjusted ideal number of doctors\n",
    "df['Adjusted Ideal Doctors'] = (df['Adjusted Population'] / adjusted_total_population) * total_doctors\n",
    "\n",
    "# Linear Programming setup\n",
    "c = np.ones(len(df))  # Coefficients for the objective function (minimize total discrepancy)\n",
    "\n",
    "# Constraints\n",
    "# A_eq and b_eq for the total number of doctors constraint\n",
    "A_eq = np.ones((1, len(df)))\n",
    "b_eq = [total_doctors]\n",
    "\n",
    "# A_ub and b_ub for the integer bounds constraints\n",
    "A_ub = np.vstack([np.eye(len(df)), -np.eye(len(df))])\n",
    "b_ub = np.hstack([df['Adjusted Ideal Doctors'].apply(np.ceil), -df['Adjusted Ideal Doctors'].apply(np.floor)])\n",
    "\n",
    "# Solve the linear program\n",
    "res = linprog(c, A_ub=A_ub, b_ub=b_ub, A_eq=A_eq, b_eq=b_eq, method='highs')\n",
    "\n",
    "# Get the final allocation\n",
    "df['Final Allocation'] = np.round(res.x).astype(int)\n",
    "\n",
    "# Calculate doctors per 1000 people\n",
    "df['Current Doctors per 1000'] = (df['Current Doctors'] / df['Population']) * 1000\n",
    "df['Final Doctors per 1000'] = (df['Final Allocation'] / df['Population']) * 1000\n",
    "\n",
    "# Create summary dataframe\n",
    "summary_df = df[['Authority', 'Population', 'Current Doctors', 'Adjusted Ideal Doctors', 'Final Allocation', 'Current Doctors per 1000', 'Final Doctors per 1000']].copy()\n",
    "\n",
    "# import ace_tools as tools; tools.display_dataframe_to_user(name=\"Doctor Allocation Summary with Accessibility\", dataframe=summary_df)\n",
    "\n",
    "summary_df\n"
   ],
   "metadata": {
    "collapsed": false,
    "ExecuteTime": {
     "end_time": "2024-05-21T19:33:36.650106400Z",
     "start_time": "2024-05-21T19:33:34.640156800Z"
    }
   },
   "id": "3613136bd4727955",
   "execution_count": 32
  },
  {
   "cell_type": "code",
   "outputs": [
    {
     "data": {
      "text/plain": "6.3261969499687805"
     },
     "execution_count": 33,
     "metadata": {},
     "output_type": "execute_result"
    }
   ],
   "source": [
    "summary_df[\"Current Doctors per 1000\"].var()"
   ],
   "metadata": {
    "collapsed": false,
    "ExecuteTime": {
     "end_time": "2024-05-21T19:34:10.680954200Z",
     "start_time": "2024-05-21T19:34:10.638129500Z"
    }
   },
   "id": "14ffb1c47e1c447a",
   "execution_count": 33
  },
  {
   "cell_type": "code",
   "outputs": [
    {
     "data": {
      "text/plain": "0.02158683615994569"
     },
     "execution_count": 34,
     "metadata": {},
     "output_type": "execute_result"
    }
   ],
   "source": [
    "summary_df[\"Final Doctors per 1000\"].var()"
   ],
   "metadata": {
    "collapsed": false,
    "ExecuteTime": {
     "end_time": "2024-05-21T19:34:23.146570200Z",
     "start_time": "2024-05-21T19:34:23.109931800Z"
    }
   },
   "id": "79b92f4b770390c1",
   "execution_count": 34
  },
  {
   "cell_type": "markdown",
   "source": [
    "### calculate fair allocation of doctors in a mock set up of 10 authorities - take into account the distances between authorities:\n",
    "(enable definition for distance between authorities that is count as \"nearby\")"
   ],
   "metadata": {
    "collapsed": false
   },
   "id": "47441158062f4b42"
  },
  {
   "cell_type": "code",
   "outputs": [
    {
     "data": {
      "text/plain": "   Authority  Population  Current Doctors  Adjusted Ideal Doctors  \\\n0         A1       16795               24                9.433955   \n1         A2        1860                1                3.450288   \n2         A3       77820               44               37.091092   \n3         A4       55886                8               27.074164   \n4         A5        7265               24                4.436749   \n..       ...         ...              ...                     ...   \n95       A96       52214               33               26.444532   \n96       A97       62228               42               30.094445   \n97       A98       49984               44               24.196616   \n98       A99       41774               24               20.304867   \n99      A100        3568               15                2.469980   \n\n    Final Allocation  Current Doctors per 1000  Final Doctors per 1000  \\\n0                  9                  1.428997                0.535874   \n1                  3                  0.537634                1.612903   \n2                 37                  0.565407                0.475456   \n3                 27                  0.143149                0.483126   \n4                  4                  3.303510                0.550585   \n..               ...                       ...                     ...   \n95                27                  0.632014                0.517103   \n96                31                  0.674937                0.498168   \n97                25                  0.880282                0.500160   \n98                21                  0.574520                0.502705   \n99                 3                  4.204036                0.840807   \n\n    Current Doctors within 30km  Final Doctors within 30km  \\\n0                            48                         44   \n1                            94                        161   \n2                           145                        112   \n3                            16                         59   \n4                            93                        100   \n..                          ...                        ...   \n95                          230                        212   \n96                          114                        142   \n97                          119                         92   \n98                           81                         96   \n99                           42                         31   \n\n    Current Doctors within 30km per 1000  Final Doctors within 30km per 1000  \n0                               2.857993                            2.619827  \n1                              50.537634                           86.559140  \n2                               1.863274                            1.439219  \n3                               0.286297                            1.055721  \n4                              12.801101                           13.764625  \n..                                   ...                                 ...  \n95                              4.404949                            4.060214  \n96                              1.831973                            2.281931  \n97                              2.380762                            1.840589  \n98                              1.939005                            2.298080  \n99                             11.771300                            8.688341  \n\n[100 rows x 11 columns]",
      "text/html": "<div>\n<style scoped>\n    .dataframe tbody tr th:only-of-type {\n        vertical-align: middle;\n    }\n\n    .dataframe tbody tr th {\n        vertical-align: top;\n    }\n\n    .dataframe thead th {\n        text-align: right;\n    }\n</style>\n<table border=\"1\" class=\"dataframe\">\n  <thead>\n    <tr style=\"text-align: right;\">\n      <th></th>\n      <th>Authority</th>\n      <th>Population</th>\n      <th>Current Doctors</th>\n      <th>Adjusted Ideal Doctors</th>\n      <th>Final Allocation</th>\n      <th>Current Doctors per 1000</th>\n      <th>Final Doctors per 1000</th>\n      <th>Current Doctors within 30km</th>\n      <th>Final Doctors within 30km</th>\n      <th>Current Doctors within 30km per 1000</th>\n      <th>Final Doctors within 30km per 1000</th>\n    </tr>\n  </thead>\n  <tbody>\n    <tr>\n      <th>0</th>\n      <td>A1</td>\n      <td>16795</td>\n      <td>24</td>\n      <td>9.433955</td>\n      <td>9</td>\n      <td>1.428997</td>\n      <td>0.535874</td>\n      <td>48</td>\n      <td>44</td>\n      <td>2.857993</td>\n      <td>2.619827</td>\n    </tr>\n    <tr>\n      <th>1</th>\n      <td>A2</td>\n      <td>1860</td>\n      <td>1</td>\n      <td>3.450288</td>\n      <td>3</td>\n      <td>0.537634</td>\n      <td>1.612903</td>\n      <td>94</td>\n      <td>161</td>\n      <td>50.537634</td>\n      <td>86.559140</td>\n    </tr>\n    <tr>\n      <th>2</th>\n      <td>A3</td>\n      <td>77820</td>\n      <td>44</td>\n      <td>37.091092</td>\n      <td>37</td>\n      <td>0.565407</td>\n      <td>0.475456</td>\n      <td>145</td>\n      <td>112</td>\n      <td>1.863274</td>\n      <td>1.439219</td>\n    </tr>\n    <tr>\n      <th>3</th>\n      <td>A4</td>\n      <td>55886</td>\n      <td>8</td>\n      <td>27.074164</td>\n      <td>27</td>\n      <td>0.143149</td>\n      <td>0.483126</td>\n      <td>16</td>\n      <td>59</td>\n      <td>0.286297</td>\n      <td>1.055721</td>\n    </tr>\n    <tr>\n      <th>4</th>\n      <td>A5</td>\n      <td>7265</td>\n      <td>24</td>\n      <td>4.436749</td>\n      <td>4</td>\n      <td>3.303510</td>\n      <td>0.550585</td>\n      <td>93</td>\n      <td>100</td>\n      <td>12.801101</td>\n      <td>13.764625</td>\n    </tr>\n    <tr>\n      <th>...</th>\n      <td>...</td>\n      <td>...</td>\n      <td>...</td>\n      <td>...</td>\n      <td>...</td>\n      <td>...</td>\n      <td>...</td>\n      <td>...</td>\n      <td>...</td>\n      <td>...</td>\n      <td>...</td>\n    </tr>\n    <tr>\n      <th>95</th>\n      <td>A96</td>\n      <td>52214</td>\n      <td>33</td>\n      <td>26.444532</td>\n      <td>27</td>\n      <td>0.632014</td>\n      <td>0.517103</td>\n      <td>230</td>\n      <td>212</td>\n      <td>4.404949</td>\n      <td>4.060214</td>\n    </tr>\n    <tr>\n      <th>96</th>\n      <td>A97</td>\n      <td>62228</td>\n      <td>42</td>\n      <td>30.094445</td>\n      <td>31</td>\n      <td>0.674937</td>\n      <td>0.498168</td>\n      <td>114</td>\n      <td>142</td>\n      <td>1.831973</td>\n      <td>2.281931</td>\n    </tr>\n    <tr>\n      <th>97</th>\n      <td>A98</td>\n      <td>49984</td>\n      <td>44</td>\n      <td>24.196616</td>\n      <td>25</td>\n      <td>0.880282</td>\n      <td>0.500160</td>\n      <td>119</td>\n      <td>92</td>\n      <td>2.380762</td>\n      <td>1.840589</td>\n    </tr>\n    <tr>\n      <th>98</th>\n      <td>A99</td>\n      <td>41774</td>\n      <td>24</td>\n      <td>20.304867</td>\n      <td>21</td>\n      <td>0.574520</td>\n      <td>0.502705</td>\n      <td>81</td>\n      <td>96</td>\n      <td>1.939005</td>\n      <td>2.298080</td>\n    </tr>\n    <tr>\n      <th>99</th>\n      <td>A100</td>\n      <td>3568</td>\n      <td>15</td>\n      <td>2.469980</td>\n      <td>3</td>\n      <td>4.204036</td>\n      <td>0.840807</td>\n      <td>42</td>\n      <td>31</td>\n      <td>11.771300</td>\n      <td>8.688341</td>\n    </tr>\n  </tbody>\n</table>\n<p>100 rows × 11 columns</p>\n</div>"
     },
     "execution_count": 72,
     "metadata": {},
     "output_type": "execute_result"
    }
   ],
   "source": [
    "import pandas as pd\n",
    "import numpy as np\n",
    "from scipy.optimize import linprog\n",
    "\n",
    "nearby_authority_threshold = 30 # number of KM to define nearby authority\n",
    "\n",
    "# Generate sample data for 100 authorities\n",
    "np.random.seed(42)\n",
    "authorities = [f'A{i}' for i in range(1, 101)]\n",
    "populations = np.random.randint(1000, 100000, size=100)\n",
    "current_doctors = np.random.randint(1, 50, size=100)\n",
    "\n",
    "data = {\n",
    "    'Authority': authorities,\n",
    "    'Population': populations,\n",
    "    'Current Doctors': current_doctors\n",
    "}\n",
    "\n",
    "# Generate a random distance matrix with significant variations\n",
    "distances = np.random.randint(1, 1000, size=(100, 100))\n",
    "np.fill_diagonal(distances, 0)\n",
    "distances = pd.DataFrame(distances, index=authorities, columns=authorities)\n",
    "\n",
    "df = pd.DataFrame(data)\n",
    "\n",
    "# Calculate total population and total number of doctors\n",
    "total_population = df['Population'].sum()\n",
    "total_doctors = df['Current Doctors'].sum()\n",
    "\n",
    "# Calculate ideal number of doctors\n",
    "df['Ideal Doctors'] = (df['Population'] / total_population) * total_doctors\n",
    "\n",
    "# Adjust population based on accessibility\n",
    "accessibility_factor = 0.1  # Example factor to weight the distance effect\n",
    "\n",
    "def adjusted_population(row):\n",
    "    authority = row['Authority']\n",
    "    neighbors = distances.loc[authority]\n",
    "    # Invert distances for accessibility (shorter distance = higher accessibility)\n",
    "    accessibility = (1 / (neighbors + 1))  # +1 to avoid division by zero\n",
    "    accessibility_score = (df.set_index('Authority').loc[neighbors.index, 'Population'] * accessibility).sum()\n",
    "    return row['Population'] + accessibility_factor * accessibility_score\n",
    "\n",
    "df['Adjusted Population'] = df.apply(adjusted_population, axis=1)\n",
    "adjusted_total_population = df['Adjusted Population'].sum()\n",
    "\n",
    "# Calculate adjusted ideal number of doctors\n",
    "df['Adjusted Ideal Doctors'] = (df['Adjusted Population'] / adjusted_total_population) * total_doctors\n",
    "\n",
    "# Linear Programming setup\n",
    "c = np.ones(len(df))  # Coefficients for the objective function (minimize total discrepancy)\n",
    "\n",
    "# Constraints\n",
    "# A_eq and b_eq for the total number of doctors constraint\n",
    "A_eq = np.ones((1, len(df)))\n",
    "b_eq = [total_doctors]\n",
    "\n",
    "# A_ub and b_ub for the integer bounds constraints\n",
    "A_ub = np.vstack([np.eye(len(df)), -np.eye(len(df))])\n",
    "b_ub = np.hstack([df['Adjusted Ideal Doctors'].apply(np.ceil), -df['Adjusted Ideal Doctors'].apply(np.floor)])\n",
    "\n",
    "# Solve the linear program\n",
    "res = linprog(c, A_ub=A_ub, b_ub=b_ub, A_eq=A_eq, b_eq=b_eq, method='highs')\n",
    "\n",
    "# Get the final allocation\n",
    "df['Final Allocation'] = np.round(res.x).astype(int)\n",
    "\n",
    "# Calculate doctors per 1000 people\n",
    "df['Current Doctors per 1000'] = (df['Current Doctors'] / df['Population']) * 1000\n",
    "df['Final Doctors per 1000'] = (df['Final Allocation'] / df['Population']) * 1000\n",
    "\n",
    "# Calculate doctors within nearby_authority_thresholdkm\n",
    "def doctors_within_nearby_authority_threshold_km(row, column):\n",
    "    authority = row['Authority']\n",
    "    nearby_authorities = distances.loc[authority][distances.loc[authority] <= nearby_authority_threshold].index\n",
    "    total_doctors_nearby = df.set_index('Authority').loc[nearby_authorities, column].sum()\n",
    "    return total_doctors_nearby\n",
    "\n",
    "df[f'Current Doctors within {nearby_authority_threshold}km'] = df.apply(doctors_within_nearby_authority_threshold_km, axis=1, column='Current Doctors')\n",
    "df[f'Final Doctors within {nearby_authority_threshold}km'] = df.apply(doctors_within_nearby_authority_threshold_km, axis=1, column='Final Allocation')\n",
    "df[f'Current Doctors within {nearby_authority_threshold}km per 1000'] = (df[f'Current Doctors within {nearby_authority_threshold}km'] / df['Population']) * 1000\n",
    "df[f'Final Doctors within {nearby_authority_threshold}km per 1000'] = (df[f'Final Doctors within {nearby_authority_threshold}km'] / df['Population']) * 1000\n",
    "\n",
    "# Create summary dataframe\n",
    "summary_df = df[['Authority', 'Population', 'Current Doctors', 'Adjusted Ideal Doctors', 'Final Allocation', 'Current Doctors per 1000', 'Final Doctors per 1000', f'Current Doctors within {nearby_authority_threshold}km', f'Final Doctors within {nearby_authority_threshold}km', f'Current Doctors within {nearby_authority_threshold}km per 1000', f'Final Doctors within {nearby_authority_threshold}km per 1000']].copy()\n",
    "\n",
    "# import ace_tools as tools; tools.display_dataframe_to_user(name=\"Doctor Allocation Summary with Accessibility\", dataframe=summary_df)\n",
    "\n",
    "summary_df\n"
   ],
   "metadata": {
    "collapsed": false,
    "ExecuteTime": {
     "end_time": "2024-05-21T19:48:05.928876500Z",
     "start_time": "2024-05-21T19:48:05.421256200Z"
    }
   },
   "id": "74ad5b4dde9faf4e",
   "execution_count": 72
  },
  {
   "cell_type": "code",
   "outputs": [
    {
     "data": {
      "text/plain": "6.3261969499687805"
     },
     "execution_count": 73,
     "metadata": {},
     "output_type": "execute_result"
    }
   ],
   "source": [
    "summary_df[\"Current Doctors per 1000\"].var()"
   ],
   "metadata": {
    "collapsed": false,
    "ExecuteTime": {
     "end_time": "2024-05-21T19:48:05.931881400Z",
     "start_time": "2024-05-21T19:48:05.881246900Z"
    }
   },
   "id": "16aa48be97f51b97",
   "execution_count": 73
  },
  {
   "cell_type": "code",
   "outputs": [
    {
     "data": {
      "text/plain": "0.02158683615994569"
     },
     "execution_count": 74,
     "metadata": {},
     "output_type": "execute_result"
    }
   ],
   "source": [
    "summary_df[\"Final Doctors per 1000\"].var()"
   ],
   "metadata": {
    "collapsed": false,
    "ExecuteTime": {
     "end_time": "2024-05-21T19:48:06.263611Z",
     "start_time": "2024-05-21T19:48:06.205600600Z"
    }
   },
   "id": "3781c228b0ef8a10",
   "execution_count": 74
  },
  {
   "cell_type": "code",
   "outputs": [
    {
     "data": {
      "text/plain": "76.90920098968809"
     },
     "execution_count": 75,
     "metadata": {},
     "output_type": "execute_result"
    }
   ],
   "source": [
    "summary_df[f'Current Doctors within {nearby_authority_threshold}km per 1000'].var()"
   ],
   "metadata": {
    "collapsed": false,
    "ExecuteTime": {
     "end_time": "2024-05-21T19:48:06.436238100Z",
     "start_time": "2024-05-21T19:48:06.391863500Z"
    }
   },
   "id": "13ece4d54a13077e",
   "execution_count": 75
  },
  {
   "cell_type": "code",
   "outputs": [
    {
     "data": {
      "text/plain": "104.51928474879415"
     },
     "execution_count": 76,
     "metadata": {},
     "output_type": "execute_result"
    }
   ],
   "source": [
    "summary_df[f'Final Doctors within {nearby_authority_threshold}km per 1000'].var()"
   ],
   "metadata": {
    "collapsed": false,
    "ExecuteTime": {
     "end_time": "2024-05-21T19:48:06.660618100Z",
     "start_time": "2024-05-21T19:48:06.646049700Z"
    }
   },
   "id": "34c57ba823ec52ce",
   "execution_count": 76
  },
  {
   "cell_type": "code",
   "outputs": [],
   "source": [],
   "metadata": {
    "collapsed": false
   },
   "id": "d502bade7507bf0c"
  }
 ],
 "metadata": {
  "kernelspec": {
   "display_name": "Python 3",
   "language": "python",
   "name": "python3"
  },
  "language_info": {
   "codemirror_mode": {
    "name": "ipython",
    "version": 2
   },
   "file_extension": ".py",
   "mimetype": "text/x-python",
   "name": "python",
   "nbconvert_exporter": "python",
   "pygments_lexer": "ipython2",
   "version": "2.7.6"
  }
 },
 "nbformat": 4,
 "nbformat_minor": 5
}
