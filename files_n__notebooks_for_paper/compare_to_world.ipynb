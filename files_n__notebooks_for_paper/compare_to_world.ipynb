{
 "cells": [
  {
   "cell_type": "code",
   "execution_count": 1,
   "id": "initial_id",
   "metadata": {
    "collapsed": true,
    "ExecuteTime": {
     "end_time": "2024-06-12T18:32:00.633629400Z",
     "start_time": "2024-06-12T18:32:00.185003800Z"
    }
   },
   "outputs": [],
   "source": [
    "import os\n",
    "import pandas as pd\n",
    "import numpy as np"
   ]
  },
  {
   "cell_type": "code",
   "outputs": [],
   "source": [
    "from files_n__notebooks_for_paper.process_clinic_data import basic_process_for_clinics_tables, calc_doctors_per_amount"
   ],
   "metadata": {
    "collapsed": false,
    "ExecuteTime": {
     "end_time": "2024-06-12T18:32:01.198694800Z",
     "start_time": "2024-06-12T18:32:01.179896700Z"
    }
   },
   "id": "d7e023745b472e98",
   "execution_count": 2
  },
  {
   "cell_type": "code",
   "outputs": [],
   "source": [
    "# get parent directory:\n",
    "parent_dir = \"\\\\\".join(os.getcwd().split(\"\\\\\")[:-1])"
   ],
   "metadata": {
    "collapsed": false,
    "ExecuteTime": {
     "end_time": "2024-06-12T18:32:01.511846600Z",
     "start_time": "2024-06-12T18:32:01.500573400Z"
    }
   },
   "id": "c0cc399299755830",
   "execution_count": 3
  },
  {
   "cell_type": "code",
   "outputs": [
    {
     "name": "stdout",
     "output_type": "stream",
     "text": [
      "(78291, 7)\n"
     ]
    },
    {
     "data": {
      "text/plain": "  קופת חולים      עיר  סוג שירות                סוג התמחות  \\\n0      כללית  אבו גוש  שירותי סל  אבחון/טיפול מערכת הנשימה   \n1      כללית  אבו גוש  שירותי סל                 אורתופדיה   \n2      כללית  אבו גוש  שירותי סל             אף אוזן וגרון   \n3      כללית  אבו גוש  שירותי סל                 בית מרקחת   \n4      כללית  אבו גוש  שירותי סל                 בית מרקחת   \n\n                           שם       טלפון                  כתובת  \n0                     אבו גוש  02-5341650             1, אבו גוש  \n1       פאדי שוויקי אורתופדיה  02-5341650             1, אבו גוש  \n2  עבדאללה כאתבה אף אוזן גרון  02-5341650             1, אבו גוש  \n3                     אבו גוש  02-5341650    חג' מוסא 1, אבו גוש  \n4                     אורפארם  02-5333353  דרך השלום 74, אבו גוש  ",
      "text/html": "<div>\n<style scoped>\n    .dataframe tbody tr th:only-of-type {\n        vertical-align: middle;\n    }\n\n    .dataframe tbody tr th {\n        vertical-align: top;\n    }\n\n    .dataframe thead th {\n        text-align: right;\n    }\n</style>\n<table border=\"1\" class=\"dataframe\">\n  <thead>\n    <tr style=\"text-align: right;\">\n      <th></th>\n      <th>קופת חולים</th>\n      <th>עיר</th>\n      <th>סוג שירות</th>\n      <th>סוג התמחות</th>\n      <th>שם</th>\n      <th>טלפון</th>\n      <th>כתובת</th>\n    </tr>\n  </thead>\n  <tbody>\n    <tr>\n      <th>0</th>\n      <td>כללית</td>\n      <td>אבו גוש</td>\n      <td>שירותי סל</td>\n      <td>אבחון/טיפול מערכת הנשימה</td>\n      <td>אבו גוש</td>\n      <td>02-5341650</td>\n      <td>1, אבו גוש</td>\n    </tr>\n    <tr>\n      <th>1</th>\n      <td>כללית</td>\n      <td>אבו גוש</td>\n      <td>שירותי סל</td>\n      <td>אורתופדיה</td>\n      <td>פאדי שוויקי אורתופדיה</td>\n      <td>02-5341650</td>\n      <td>1, אבו גוש</td>\n    </tr>\n    <tr>\n      <th>2</th>\n      <td>כללית</td>\n      <td>אבו גוש</td>\n      <td>שירותי סל</td>\n      <td>אף אוזן וגרון</td>\n      <td>עבדאללה כאתבה אף אוזן גרון</td>\n      <td>02-5341650</td>\n      <td>1, אבו גוש</td>\n    </tr>\n    <tr>\n      <th>3</th>\n      <td>כללית</td>\n      <td>אבו גוש</td>\n      <td>שירותי סל</td>\n      <td>בית מרקחת</td>\n      <td>אבו גוש</td>\n      <td>02-5341650</td>\n      <td>חג' מוסא 1, אבו גוש</td>\n    </tr>\n    <tr>\n      <th>4</th>\n      <td>כללית</td>\n      <td>אבו גוש</td>\n      <td>שירותי סל</td>\n      <td>בית מרקחת</td>\n      <td>אורפארם</td>\n      <td>02-5333353</td>\n      <td>דרך השלום 74, אבו גוש</td>\n    </tr>\n  </tbody>\n</table>\n</div>"
     },
     "execution_count": 4,
     "metadata": {},
     "output_type": "execute_result"
    }
   ],
   "source": [
    "doctors_table_path = os.path.join(parent_dir, \"doctors_file_updated_2024_06_12.xlsx\")\n",
    "doctors_table = pd.read_excel(doctors_table_path)\n",
    "print(doctors_table.shape)\n",
    "doctors_table.head()"
   ],
   "metadata": {
    "collapsed": false,
    "ExecuteTime": {
     "end_time": "2024-06-12T18:32:08.788971900Z",
     "start_time": "2024-06-12T18:32:01.722713700Z"
    }
   },
   "id": "debfa6f46cb4a64c",
   "execution_count": 4
  },
  {
   "cell_type": "markdown",
   "source": [
    "# basic process of clinics data"
   ],
   "metadata": {
    "collapsed": false
   },
   "id": "592cfe721ca8dbb9"
  },
  {
   "cell_type": "code",
   "outputs": [
    {
     "name": "stdout",
     "output_type": "stream",
     "text": [
      "(93598, 50)\n"
     ]
    },
    {
     "name": "stderr",
     "output_type": "stream",
     "text": [
      "C:\\Users\\User\\AppData\\Local\\Temp\\ipykernel_8360\\1533731265.py:2: DtypeWarning: Columns (26) have mixed types. Specify dtype option on import or set low_memory=False.\n",
      "  clinics_table = pd.read_csv(clinics_table_path)\n"
     ]
    },
    {
     "data": {
      "text/plain": "           X          Y  OBJECTID  city_code    city_desc    Main name  \\\n0  34.880549  32.084466         1       7900    פתח תקווה    פתח תקווה   \n1  34.783750  32.007712         2       6600        חולון        חולון   \n2  35.103853  32.655582         3        240  יקנעם עילית  יקנעם עילית   \n3  35.208729  31.790794         4       3000      ירושלים      ירושלים   \n4  35.093462  32.843920         5       9500  קרית ביאליק  קרית ביאליק   \n\n     English name  neighborhoodid health_region_desc   hmo_region_desc  ...  \\\n0     PETAH TIQWA        79000236          מחוז מרכז          דן - פ\"ת  ...   \n1           HOLON        66000414       מחוז תל אביב       תל אביב-יפו  ...   \n2  YOQNE'AM ILLIT         2400003          מחוז צפון  חיפה וגליל מערבי  ...   \n3       JERUSALEM        30000832       מחוז ירושלים           ירושלים  ...   \n4   QIRYAT BIALIK        95000004          מחוז חיפה  חיפה וגליל מערבי  ...   \n\n  thursday_mor thursday_aft friday_mor  friday_aft  saturday_mor  \\\n0          0.5       5.0000     0.0000      0.0000           0.0   \n1          0.0       4.4999     5.6666      0.8333           0.0   \n2          0.0       0.0000     6.0000      0.0000           0.0   \n3          3.0       1.7500     3.3333      0.0000           0.0   \n4          6.0       1.0000     0.0000      0.0000           0.0   \n\n   saturday_aft morning_ind afternoon_ind validity_date  \\\n0           0.0           1             1     1/18/2024   \n1           0.0           1             1     1/18/2024   \n2           0.0           1             1     1/18/2024   \n3           0.0           1             1     1/18/2024   \n4           0.0           1             1     1/18/2024   \n\n              NEIGHBORHOODS  \n0                המרכז השקט  \n1  קריית-פנחס אילון (ח-300)  \n2                 נוף לכרמל  \n3               מקור - ברוך  \n4                       NaN  \n\n[5 rows x 50 columns]",
      "text/html": "<div>\n<style scoped>\n    .dataframe tbody tr th:only-of-type {\n        vertical-align: middle;\n    }\n\n    .dataframe tbody tr th {\n        vertical-align: top;\n    }\n\n    .dataframe thead th {\n        text-align: right;\n    }\n</style>\n<table border=\"1\" class=\"dataframe\">\n  <thead>\n    <tr style=\"text-align: right;\">\n      <th></th>\n      <th>X</th>\n      <th>Y</th>\n      <th>OBJECTID</th>\n      <th>city_code</th>\n      <th>city_desc</th>\n      <th>Main name</th>\n      <th>English name</th>\n      <th>neighborhoodid</th>\n      <th>health_region_desc</th>\n      <th>hmo_region_desc</th>\n      <th>...</th>\n      <th>thursday_mor</th>\n      <th>thursday_aft</th>\n      <th>friday_mor</th>\n      <th>friday_aft</th>\n      <th>saturday_mor</th>\n      <th>saturday_aft</th>\n      <th>morning_ind</th>\n      <th>afternoon_ind</th>\n      <th>validity_date</th>\n      <th>NEIGHBORHOODS</th>\n    </tr>\n  </thead>\n  <tbody>\n    <tr>\n      <th>0</th>\n      <td>34.880549</td>\n      <td>32.084466</td>\n      <td>1</td>\n      <td>7900</td>\n      <td>פתח תקווה</td>\n      <td>פתח תקווה</td>\n      <td>PETAH TIQWA</td>\n      <td>79000236</td>\n      <td>מחוז מרכז</td>\n      <td>דן - פ\"ת</td>\n      <td>...</td>\n      <td>0.5</td>\n      <td>5.0000</td>\n      <td>0.0000</td>\n      <td>0.0000</td>\n      <td>0.0</td>\n      <td>0.0</td>\n      <td>1</td>\n      <td>1</td>\n      <td>1/18/2024</td>\n      <td>המרכז השקט</td>\n    </tr>\n    <tr>\n      <th>1</th>\n      <td>34.783750</td>\n      <td>32.007712</td>\n      <td>2</td>\n      <td>6600</td>\n      <td>חולון</td>\n      <td>חולון</td>\n      <td>HOLON</td>\n      <td>66000414</td>\n      <td>מחוז תל אביב</td>\n      <td>תל אביב-יפו</td>\n      <td>...</td>\n      <td>0.0</td>\n      <td>4.4999</td>\n      <td>5.6666</td>\n      <td>0.8333</td>\n      <td>0.0</td>\n      <td>0.0</td>\n      <td>1</td>\n      <td>1</td>\n      <td>1/18/2024</td>\n      <td>קריית-פנחס אילון (ח-300)</td>\n    </tr>\n    <tr>\n      <th>2</th>\n      <td>35.103853</td>\n      <td>32.655582</td>\n      <td>3</td>\n      <td>240</td>\n      <td>יקנעם עילית</td>\n      <td>יקנעם עילית</td>\n      <td>YOQNE'AM ILLIT</td>\n      <td>2400003</td>\n      <td>מחוז צפון</td>\n      <td>חיפה וגליל מערבי</td>\n      <td>...</td>\n      <td>0.0</td>\n      <td>0.0000</td>\n      <td>6.0000</td>\n      <td>0.0000</td>\n      <td>0.0</td>\n      <td>0.0</td>\n      <td>1</td>\n      <td>1</td>\n      <td>1/18/2024</td>\n      <td>נוף לכרמל</td>\n    </tr>\n    <tr>\n      <th>3</th>\n      <td>35.208729</td>\n      <td>31.790794</td>\n      <td>4</td>\n      <td>3000</td>\n      <td>ירושלים</td>\n      <td>ירושלים</td>\n      <td>JERUSALEM</td>\n      <td>30000832</td>\n      <td>מחוז ירושלים</td>\n      <td>ירושלים</td>\n      <td>...</td>\n      <td>3.0</td>\n      <td>1.7500</td>\n      <td>3.3333</td>\n      <td>0.0000</td>\n      <td>0.0</td>\n      <td>0.0</td>\n      <td>1</td>\n      <td>1</td>\n      <td>1/18/2024</td>\n      <td>מקור - ברוך</td>\n    </tr>\n    <tr>\n      <th>4</th>\n      <td>35.093462</td>\n      <td>32.843920</td>\n      <td>5</td>\n      <td>9500</td>\n      <td>קרית ביאליק</td>\n      <td>קרית ביאליק</td>\n      <td>QIRYAT BIALIK</td>\n      <td>95000004</td>\n      <td>מחוז חיפה</td>\n      <td>חיפה וגליל מערבי</td>\n      <td>...</td>\n      <td>6.0</td>\n      <td>1.0000</td>\n      <td>0.0000</td>\n      <td>0.0000</td>\n      <td>0.0</td>\n      <td>0.0</td>\n      <td>1</td>\n      <td>1</td>\n      <td>1/18/2024</td>\n      <td>NaN</td>\n    </tr>\n  </tbody>\n</table>\n<p>5 rows × 50 columns</p>\n</div>"
     },
     "execution_count": 5,
     "metadata": {},
     "output_type": "execute_result"
    }
   ],
   "source": [
    "clinics_table_path = os.path.join(parent_dir, \"Clinics_Data.csv\")\n",
    "clinics_table = pd.read_csv(clinics_table_path)\n",
    "print(clinics_table.shape)\n",
    "clinics_table.head()"
   ],
   "metadata": {
    "collapsed": false,
    "ExecuteTime": {
     "end_time": "2024-06-12T18:32:09.896369Z",
     "start_time": "2024-06-12T18:32:08.782955200Z"
    }
   },
   "id": "d26e23930d731e71",
   "execution_count": 5
  },
  {
   "cell_type": "code",
   "outputs": [
    {
     "data": {
      "text/plain": "Index(['X', 'Y', 'OBJECTID', 'city_code', 'city_desc', 'Main name',\n       'English name', 'neighborhoodid', 'health_region_desc',\n       'hmo_region_desc', 'hmo_desc', 'services_type_desc', 'expertise_desc',\n       'machontypename', 'clinique_type', 'pharmacytype', 'name', 'address',\n       'phone1', 'phone2', 'fax', 'managername', 'lift', 'gisha_Yes_No',\n       'gisha', 'remarks', 'languages_concat', 'ind_hebrew', 'ind_english',\n       'ind_russian', 'ind_arabic', 'ind_french', 'sunday_mor', 'sunday_aft',\n       'monday_mor', 'monday_aft', 'tuesday_mor', 'tuesday_aft',\n       'wednesday_mor', 'wednesday_aft', 'thursday_mor', 'thursday_aft',\n       'friday_mor', 'friday_aft', 'saturday_mor', 'saturday_aft',\n       'morning_ind', 'afternoon_ind', 'validity_date', 'NEIGHBORHOODS'],\n      dtype='object')"
     },
     "execution_count": 6,
     "metadata": {},
     "output_type": "execute_result"
    }
   ],
   "source": [
    "clinics_table.columns"
   ],
   "metadata": {
    "collapsed": false,
    "ExecuteTime": {
     "end_time": "2024-06-12T18:32:09.911638900Z",
     "start_time": "2024-06-12T18:32:09.897561900Z"
    }
   },
   "id": "41bda6b8f7385b43",
   "execution_count": 6
  },
  {
   "cell_type": "code",
   "outputs": [
    {
     "name": "stdout",
     "output_type": "stream",
     "text": [
      "original table shape:  (93598, 50)\n",
      "table shape after duplicate removal:  (91052, 50)\n",
      "table shape after removing irrelevant rows:  (77172, 50)\n"
     ]
    }
   ],
   "source": [
    "processed_clinics_table = basic_process_for_clinics_tables(original_clinics_table=clinics_table)"
   ],
   "metadata": {
    "collapsed": false,
    "ExecuteTime": {
     "end_time": "2024-06-12T18:32:10.148056Z",
     "start_time": "2024-06-12T18:32:09.907637400Z"
    }
   },
   "id": "1bdf867ff94d0959",
   "execution_count": 7
  },
  {
   "cell_type": "code",
   "outputs": [
    {
     "name": "stdout",
     "output_type": "stream",
     "text": [
      "original table shape:  (93598, 50)\n",
      "table shape after duplicate removal:  (84464, 50)\n",
      "table shape after removing irrelevant rows:  (71235, 50)\n"
     ]
    }
   ],
   "source": [
    "processed_clinics_table_tight = basic_process_for_clinics_tables(original_clinics_table=clinics_table, tight_or_soft=\"tight\")"
   ],
   "metadata": {
    "collapsed": false,
    "ExecuteTime": {
     "end_time": "2024-06-12T18:34:31.285818800Z",
     "start_time": "2024-06-12T18:34:31.161512900Z"
    }
   },
   "id": "7a88fcc78782560b",
   "execution_count": 13
  },
  {
   "cell_type": "code",
   "outputs": [
    {
     "ename": "PermissionError",
     "evalue": "[Errno 13] Permission denied: 'C:\\\\Users\\\\User\\\\Documents\\\\Ruppin\\\\med_services_israel\\\\services_n_expertise_count.csv'",
     "output_type": "error",
     "traceback": [
      "\u001B[1;31m---------------------------------------------------------------------------\u001B[0m",
      "\u001B[1;31mPermissionError\u001B[0m                           Traceback (most recent call last)",
      "Cell \u001B[1;32mIn[8], line 2\u001B[0m\n\u001B[0;32m      1\u001B[0m services_n_expertise \u001B[38;5;241m=\u001B[39m processed_clinics_table[[\u001B[38;5;124m\"\u001B[39m\u001B[38;5;124mexpertise_desc\u001B[39m\u001B[38;5;124m\"\u001B[39m, \u001B[38;5;124m\"\u001B[39m\u001B[38;5;124mservices_type_desc\u001B[39m\u001B[38;5;124m\"\u001B[39m, \u001B[38;5;124m\"\u001B[39m\u001B[38;5;124mname\u001B[39m\u001B[38;5;124m\"\u001B[39m]]\u001B[38;5;241m.\u001B[39mgroupby([\u001B[38;5;124m\"\u001B[39m\u001B[38;5;124mexpertise_desc\u001B[39m\u001B[38;5;124m\"\u001B[39m, \u001B[38;5;124m\"\u001B[39m\u001B[38;5;124mservices_type_desc\u001B[39m\u001B[38;5;124m\"\u001B[39m])\u001B[38;5;241m.\u001B[39mcount()\n\u001B[1;32m----> 2\u001B[0m \u001B[43mservices_n_expertise\u001B[49m\u001B[38;5;241;43m.\u001B[39;49m\u001B[43mto_csv\u001B[49m\u001B[43m(\u001B[49m\u001B[43mos\u001B[49m\u001B[38;5;241;43m.\u001B[39;49m\u001B[43mpath\u001B[49m\u001B[38;5;241;43m.\u001B[39;49m\u001B[43mjoin\u001B[49m\u001B[43m(\u001B[49m\u001B[43mparent_dir\u001B[49m\u001B[43m,\u001B[49m\u001B[43m \u001B[49m\u001B[38;5;124;43m\"\u001B[39;49m\u001B[38;5;124;43mservices_n_expertise_count.csv\u001B[39;49m\u001B[38;5;124;43m\"\u001B[39;49m\u001B[43m)\u001B[49m\u001B[43m,\u001B[49m\u001B[43m \u001B[49m\u001B[43mencoding\u001B[49m\u001B[43m \u001B[49m\u001B[38;5;241;43m=\u001B[39;49m\u001B[43m \u001B[49m\u001B[38;5;124;43m'\u001B[39;49m\u001B[38;5;124;43mutf-8-sig\u001B[39;49m\u001B[38;5;124;43m'\u001B[39;49m\u001B[43m)\u001B[49m\n\u001B[0;32m      3\u001B[0m services_n_expertise\n",
      "File \u001B[1;32m~\\Documents\\Ruppin\\NYC_shooting\\.venv\\Lib\\site-packages\\pandas\\util\\_decorators.py:333\u001B[0m, in \u001B[0;36mdeprecate_nonkeyword_arguments.<locals>.decorate.<locals>.wrapper\u001B[1;34m(*args, **kwargs)\u001B[0m\n\u001B[0;32m    327\u001B[0m \u001B[38;5;28;01mif\u001B[39;00m \u001B[38;5;28mlen\u001B[39m(args) \u001B[38;5;241m>\u001B[39m num_allow_args:\n\u001B[0;32m    328\u001B[0m     warnings\u001B[38;5;241m.\u001B[39mwarn(\n\u001B[0;32m    329\u001B[0m         msg\u001B[38;5;241m.\u001B[39mformat(arguments\u001B[38;5;241m=\u001B[39m_format_argument_list(allow_args)),\n\u001B[0;32m    330\u001B[0m         \u001B[38;5;167;01mFutureWarning\u001B[39;00m,\n\u001B[0;32m    331\u001B[0m         stacklevel\u001B[38;5;241m=\u001B[39mfind_stack_level(),\n\u001B[0;32m    332\u001B[0m     )\n\u001B[1;32m--> 333\u001B[0m \u001B[38;5;28;01mreturn\u001B[39;00m \u001B[43mfunc\u001B[49m\u001B[43m(\u001B[49m\u001B[38;5;241;43m*\u001B[39;49m\u001B[43margs\u001B[49m\u001B[43m,\u001B[49m\u001B[43m \u001B[49m\u001B[38;5;241;43m*\u001B[39;49m\u001B[38;5;241;43m*\u001B[39;49m\u001B[43mkwargs\u001B[49m\u001B[43m)\u001B[49m\n",
      "File \u001B[1;32m~\\Documents\\Ruppin\\NYC_shooting\\.venv\\Lib\\site-packages\\pandas\\core\\generic.py:3964\u001B[0m, in \u001B[0;36mNDFrame.to_csv\u001B[1;34m(self, path_or_buf, sep, na_rep, float_format, columns, header, index, index_label, mode, encoding, compression, quoting, quotechar, lineterminator, chunksize, date_format, doublequote, escapechar, decimal, errors, storage_options)\u001B[0m\n\u001B[0;32m   3953\u001B[0m df \u001B[38;5;241m=\u001B[39m \u001B[38;5;28mself\u001B[39m \u001B[38;5;28;01mif\u001B[39;00m \u001B[38;5;28misinstance\u001B[39m(\u001B[38;5;28mself\u001B[39m, ABCDataFrame) \u001B[38;5;28;01melse\u001B[39;00m \u001B[38;5;28mself\u001B[39m\u001B[38;5;241m.\u001B[39mto_frame()\n\u001B[0;32m   3955\u001B[0m formatter \u001B[38;5;241m=\u001B[39m DataFrameFormatter(\n\u001B[0;32m   3956\u001B[0m     frame\u001B[38;5;241m=\u001B[39mdf,\n\u001B[0;32m   3957\u001B[0m     header\u001B[38;5;241m=\u001B[39mheader,\n\u001B[1;32m   (...)\u001B[0m\n\u001B[0;32m   3961\u001B[0m     decimal\u001B[38;5;241m=\u001B[39mdecimal,\n\u001B[0;32m   3962\u001B[0m )\n\u001B[1;32m-> 3964\u001B[0m \u001B[38;5;28;01mreturn\u001B[39;00m \u001B[43mDataFrameRenderer\u001B[49m\u001B[43m(\u001B[49m\u001B[43mformatter\u001B[49m\u001B[43m)\u001B[49m\u001B[38;5;241;43m.\u001B[39;49m\u001B[43mto_csv\u001B[49m\u001B[43m(\u001B[49m\n\u001B[0;32m   3965\u001B[0m \u001B[43m    \u001B[49m\u001B[43mpath_or_buf\u001B[49m\u001B[43m,\u001B[49m\n\u001B[0;32m   3966\u001B[0m \u001B[43m    \u001B[49m\u001B[43mlineterminator\u001B[49m\u001B[38;5;241;43m=\u001B[39;49m\u001B[43mlineterminator\u001B[49m\u001B[43m,\u001B[49m\n\u001B[0;32m   3967\u001B[0m \u001B[43m    \u001B[49m\u001B[43msep\u001B[49m\u001B[38;5;241;43m=\u001B[39;49m\u001B[43msep\u001B[49m\u001B[43m,\u001B[49m\n\u001B[0;32m   3968\u001B[0m \u001B[43m    \u001B[49m\u001B[43mencoding\u001B[49m\u001B[38;5;241;43m=\u001B[39;49m\u001B[43mencoding\u001B[49m\u001B[43m,\u001B[49m\n\u001B[0;32m   3969\u001B[0m \u001B[43m    \u001B[49m\u001B[43merrors\u001B[49m\u001B[38;5;241;43m=\u001B[39;49m\u001B[43merrors\u001B[49m\u001B[43m,\u001B[49m\n\u001B[0;32m   3970\u001B[0m \u001B[43m    \u001B[49m\u001B[43mcompression\u001B[49m\u001B[38;5;241;43m=\u001B[39;49m\u001B[43mcompression\u001B[49m\u001B[43m,\u001B[49m\n\u001B[0;32m   3971\u001B[0m \u001B[43m    \u001B[49m\u001B[43mquoting\u001B[49m\u001B[38;5;241;43m=\u001B[39;49m\u001B[43mquoting\u001B[49m\u001B[43m,\u001B[49m\n\u001B[0;32m   3972\u001B[0m \u001B[43m    \u001B[49m\u001B[43mcolumns\u001B[49m\u001B[38;5;241;43m=\u001B[39;49m\u001B[43mcolumns\u001B[49m\u001B[43m,\u001B[49m\n\u001B[0;32m   3973\u001B[0m \u001B[43m    \u001B[49m\u001B[43mindex_label\u001B[49m\u001B[38;5;241;43m=\u001B[39;49m\u001B[43mindex_label\u001B[49m\u001B[43m,\u001B[49m\n\u001B[0;32m   3974\u001B[0m \u001B[43m    \u001B[49m\u001B[43mmode\u001B[49m\u001B[38;5;241;43m=\u001B[39;49m\u001B[43mmode\u001B[49m\u001B[43m,\u001B[49m\n\u001B[0;32m   3975\u001B[0m \u001B[43m    \u001B[49m\u001B[43mchunksize\u001B[49m\u001B[38;5;241;43m=\u001B[39;49m\u001B[43mchunksize\u001B[49m\u001B[43m,\u001B[49m\n\u001B[0;32m   3976\u001B[0m \u001B[43m    \u001B[49m\u001B[43mquotechar\u001B[49m\u001B[38;5;241;43m=\u001B[39;49m\u001B[43mquotechar\u001B[49m\u001B[43m,\u001B[49m\n\u001B[0;32m   3977\u001B[0m \u001B[43m    \u001B[49m\u001B[43mdate_format\u001B[49m\u001B[38;5;241;43m=\u001B[39;49m\u001B[43mdate_format\u001B[49m\u001B[43m,\u001B[49m\n\u001B[0;32m   3978\u001B[0m \u001B[43m    \u001B[49m\u001B[43mdoublequote\u001B[49m\u001B[38;5;241;43m=\u001B[39;49m\u001B[43mdoublequote\u001B[49m\u001B[43m,\u001B[49m\n\u001B[0;32m   3979\u001B[0m \u001B[43m    \u001B[49m\u001B[43mescapechar\u001B[49m\u001B[38;5;241;43m=\u001B[39;49m\u001B[43mescapechar\u001B[49m\u001B[43m,\u001B[49m\n\u001B[0;32m   3980\u001B[0m \u001B[43m    \u001B[49m\u001B[43mstorage_options\u001B[49m\u001B[38;5;241;43m=\u001B[39;49m\u001B[43mstorage_options\u001B[49m\u001B[43m,\u001B[49m\n\u001B[0;32m   3981\u001B[0m \u001B[43m\u001B[49m\u001B[43m)\u001B[49m\n",
      "File \u001B[1;32m~\\Documents\\Ruppin\\NYC_shooting\\.venv\\Lib\\site-packages\\pandas\\io\\formats\\format.py:1014\u001B[0m, in \u001B[0;36mDataFrameRenderer.to_csv\u001B[1;34m(self, path_or_buf, encoding, sep, columns, index_label, mode, compression, quoting, quotechar, lineterminator, chunksize, date_format, doublequote, escapechar, errors, storage_options)\u001B[0m\n\u001B[0;32m    993\u001B[0m     created_buffer \u001B[38;5;241m=\u001B[39m \u001B[38;5;28;01mFalse\u001B[39;00m\n\u001B[0;32m    995\u001B[0m csv_formatter \u001B[38;5;241m=\u001B[39m CSVFormatter(\n\u001B[0;32m    996\u001B[0m     path_or_buf\u001B[38;5;241m=\u001B[39mpath_or_buf,\n\u001B[0;32m    997\u001B[0m     lineterminator\u001B[38;5;241m=\u001B[39mlineterminator,\n\u001B[1;32m   (...)\u001B[0m\n\u001B[0;32m   1012\u001B[0m     formatter\u001B[38;5;241m=\u001B[39m\u001B[38;5;28mself\u001B[39m\u001B[38;5;241m.\u001B[39mfmt,\n\u001B[0;32m   1013\u001B[0m )\n\u001B[1;32m-> 1014\u001B[0m \u001B[43mcsv_formatter\u001B[49m\u001B[38;5;241;43m.\u001B[39;49m\u001B[43msave\u001B[49m\u001B[43m(\u001B[49m\u001B[43m)\u001B[49m\n\u001B[0;32m   1016\u001B[0m \u001B[38;5;28;01mif\u001B[39;00m created_buffer:\n\u001B[0;32m   1017\u001B[0m     \u001B[38;5;28;01massert\u001B[39;00m \u001B[38;5;28misinstance\u001B[39m(path_or_buf, StringIO)\n",
      "File \u001B[1;32m~\\Documents\\Ruppin\\NYC_shooting\\.venv\\Lib\\site-packages\\pandas\\io\\formats\\csvs.py:251\u001B[0m, in \u001B[0;36mCSVFormatter.save\u001B[1;34m(self)\u001B[0m\n\u001B[0;32m    247\u001B[0m \u001B[38;5;250m\u001B[39m\u001B[38;5;124;03m\"\"\"\u001B[39;00m\n\u001B[0;32m    248\u001B[0m \u001B[38;5;124;03mCreate the writer & save.\u001B[39;00m\n\u001B[0;32m    249\u001B[0m \u001B[38;5;124;03m\"\"\"\u001B[39;00m\n\u001B[0;32m    250\u001B[0m \u001B[38;5;66;03m# apply compression and byte/text conversion\u001B[39;00m\n\u001B[1;32m--> 251\u001B[0m \u001B[38;5;28;01mwith\u001B[39;00m \u001B[43mget_handle\u001B[49m\u001B[43m(\u001B[49m\n\u001B[0;32m    252\u001B[0m \u001B[43m    \u001B[49m\u001B[38;5;28;43mself\u001B[39;49m\u001B[38;5;241;43m.\u001B[39;49m\u001B[43mfilepath_or_buffer\u001B[49m\u001B[43m,\u001B[49m\n\u001B[0;32m    253\u001B[0m \u001B[43m    \u001B[49m\u001B[38;5;28;43mself\u001B[39;49m\u001B[38;5;241;43m.\u001B[39;49m\u001B[43mmode\u001B[49m\u001B[43m,\u001B[49m\n\u001B[0;32m    254\u001B[0m \u001B[43m    \u001B[49m\u001B[43mencoding\u001B[49m\u001B[38;5;241;43m=\u001B[39;49m\u001B[38;5;28;43mself\u001B[39;49m\u001B[38;5;241;43m.\u001B[39;49m\u001B[43mencoding\u001B[49m\u001B[43m,\u001B[49m\n\u001B[0;32m    255\u001B[0m \u001B[43m    \u001B[49m\u001B[43merrors\u001B[49m\u001B[38;5;241;43m=\u001B[39;49m\u001B[38;5;28;43mself\u001B[39;49m\u001B[38;5;241;43m.\u001B[39;49m\u001B[43merrors\u001B[49m\u001B[43m,\u001B[49m\n\u001B[0;32m    256\u001B[0m \u001B[43m    \u001B[49m\u001B[43mcompression\u001B[49m\u001B[38;5;241;43m=\u001B[39;49m\u001B[38;5;28;43mself\u001B[39;49m\u001B[38;5;241;43m.\u001B[39;49m\u001B[43mcompression\u001B[49m\u001B[43m,\u001B[49m\n\u001B[0;32m    257\u001B[0m \u001B[43m    \u001B[49m\u001B[43mstorage_options\u001B[49m\u001B[38;5;241;43m=\u001B[39;49m\u001B[38;5;28;43mself\u001B[39;49m\u001B[38;5;241;43m.\u001B[39;49m\u001B[43mstorage_options\u001B[49m\u001B[43m,\u001B[49m\n\u001B[0;32m    258\u001B[0m \u001B[43m\u001B[49m\u001B[43m)\u001B[49m \u001B[38;5;28;01mas\u001B[39;00m handles:\n\u001B[0;32m    259\u001B[0m     \u001B[38;5;66;03m# Note: self.encoding is irrelevant here\u001B[39;00m\n\u001B[0;32m    260\u001B[0m     \u001B[38;5;28mself\u001B[39m\u001B[38;5;241m.\u001B[39mwriter \u001B[38;5;241m=\u001B[39m csvlib\u001B[38;5;241m.\u001B[39mwriter(\n\u001B[0;32m    261\u001B[0m         handles\u001B[38;5;241m.\u001B[39mhandle,\n\u001B[0;32m    262\u001B[0m         lineterminator\u001B[38;5;241m=\u001B[39m\u001B[38;5;28mself\u001B[39m\u001B[38;5;241m.\u001B[39mlineterminator,\n\u001B[1;32m   (...)\u001B[0m\n\u001B[0;32m    267\u001B[0m         quotechar\u001B[38;5;241m=\u001B[39m\u001B[38;5;28mself\u001B[39m\u001B[38;5;241m.\u001B[39mquotechar,\n\u001B[0;32m    268\u001B[0m     )\n\u001B[0;32m    270\u001B[0m     \u001B[38;5;28mself\u001B[39m\u001B[38;5;241m.\u001B[39m_save()\n",
      "File \u001B[1;32m~\\Documents\\Ruppin\\NYC_shooting\\.venv\\Lib\\site-packages\\pandas\\io\\common.py:873\u001B[0m, in \u001B[0;36mget_handle\u001B[1;34m(path_or_buf, mode, encoding, compression, memory_map, is_text, errors, storage_options)\u001B[0m\n\u001B[0;32m    868\u001B[0m \u001B[38;5;28;01melif\u001B[39;00m \u001B[38;5;28misinstance\u001B[39m(handle, \u001B[38;5;28mstr\u001B[39m):\n\u001B[0;32m    869\u001B[0m     \u001B[38;5;66;03m# Check whether the filename is to be opened in binary mode.\u001B[39;00m\n\u001B[0;32m    870\u001B[0m     \u001B[38;5;66;03m# Binary mode does not support 'encoding' and 'newline'.\u001B[39;00m\n\u001B[0;32m    871\u001B[0m     \u001B[38;5;28;01mif\u001B[39;00m ioargs\u001B[38;5;241m.\u001B[39mencoding \u001B[38;5;129;01mand\u001B[39;00m \u001B[38;5;124m\"\u001B[39m\u001B[38;5;124mb\u001B[39m\u001B[38;5;124m\"\u001B[39m \u001B[38;5;129;01mnot\u001B[39;00m \u001B[38;5;129;01min\u001B[39;00m ioargs\u001B[38;5;241m.\u001B[39mmode:\n\u001B[0;32m    872\u001B[0m         \u001B[38;5;66;03m# Encoding\u001B[39;00m\n\u001B[1;32m--> 873\u001B[0m         handle \u001B[38;5;241m=\u001B[39m \u001B[38;5;28;43mopen\u001B[39;49m\u001B[43m(\u001B[49m\n\u001B[0;32m    874\u001B[0m \u001B[43m            \u001B[49m\u001B[43mhandle\u001B[49m\u001B[43m,\u001B[49m\n\u001B[0;32m    875\u001B[0m \u001B[43m            \u001B[49m\u001B[43mioargs\u001B[49m\u001B[38;5;241;43m.\u001B[39;49m\u001B[43mmode\u001B[49m\u001B[43m,\u001B[49m\n\u001B[0;32m    876\u001B[0m \u001B[43m            \u001B[49m\u001B[43mencoding\u001B[49m\u001B[38;5;241;43m=\u001B[39;49m\u001B[43mioargs\u001B[49m\u001B[38;5;241;43m.\u001B[39;49m\u001B[43mencoding\u001B[49m\u001B[43m,\u001B[49m\n\u001B[0;32m    877\u001B[0m \u001B[43m            \u001B[49m\u001B[43merrors\u001B[49m\u001B[38;5;241;43m=\u001B[39;49m\u001B[43merrors\u001B[49m\u001B[43m,\u001B[49m\n\u001B[0;32m    878\u001B[0m \u001B[43m            \u001B[49m\u001B[43mnewline\u001B[49m\u001B[38;5;241;43m=\u001B[39;49m\u001B[38;5;124;43m\"\u001B[39;49m\u001B[38;5;124;43m\"\u001B[39;49m\u001B[43m,\u001B[49m\n\u001B[0;32m    879\u001B[0m \u001B[43m        \u001B[49m\u001B[43m)\u001B[49m\n\u001B[0;32m    880\u001B[0m     \u001B[38;5;28;01melse\u001B[39;00m:\n\u001B[0;32m    881\u001B[0m         \u001B[38;5;66;03m# Binary mode\u001B[39;00m\n\u001B[0;32m    882\u001B[0m         handle \u001B[38;5;241m=\u001B[39m \u001B[38;5;28mopen\u001B[39m(handle, ioargs\u001B[38;5;241m.\u001B[39mmode)\n",
      "\u001B[1;31mPermissionError\u001B[0m: [Errno 13] Permission denied: 'C:\\\\Users\\\\User\\\\Documents\\\\Ruppin\\\\med_services_israel\\\\services_n_expertise_count.csv'"
     ]
    }
   ],
   "source": [
    "services_n_expertise = processed_clinics_table[[\"expertise_desc\", \"services_type_desc\", \"name\"]].groupby([\"expertise_desc\", \"services_type_desc\"]).count()\n",
    "services_n_expertise.to_csv(os.path.join(parent_dir, \"services_n_expertise_count.csv\"), encoding = 'utf-8-sig')\n",
    "services_n_expertise"
   ],
   "metadata": {
    "collapsed": false,
    "ExecuteTime": {
     "end_time": "2024-06-12T18:32:11.291200800Z",
     "start_time": "2024-06-12T18:32:10.131051900Z"
    }
   },
   "id": "9ec32ddc39685a03",
   "execution_count": 8
  },
  {
   "cell_type": "code",
   "outputs": [
    {
     "data": {
      "text/plain": "4.4047897072249"
     },
     "execution_count": 11,
     "metadata": {},
     "output_type": "execute_result"
    }
   ],
   "source": [
    "doctors_per_1000 = calc_doctors_per_amount(clinics_table=processed_clinics_table, amount=1000, service_list = [\"רופאים\"])\n",
    "doctors_per_1000"
   ],
   "metadata": {
    "collapsed": false,
    "ExecuteTime": {
     "end_time": "2024-06-12T18:33:15.497618500Z",
     "start_time": "2024-06-12T18:33:15.464848200Z"
    }
   },
   "id": "f9bcb063f13c75e4",
   "execution_count": 11
  },
  {
   "cell_type": "code",
   "outputs": [
    {
     "data": {
      "text/plain": "4.840661557079468"
     },
     "execution_count": 15,
     "metadata": {},
     "output_type": "execute_result"
    }
   ],
   "source": [
    "doctors_per_1000_with_consult = calc_doctors_per_amount(clinics_table=processed_clinics_table, amount=1000, service_list = [\"רופאים\", \"יועצים ומנתחים\"])\n",
    "doctors_per_1000_with_consult"
   ],
   "metadata": {
    "collapsed": false,
    "ExecuteTime": {
     "end_time": "2024-06-12T18:40:39.778244800Z",
     "start_time": "2024-06-12T18:40:39.721522500Z"
    }
   },
   "id": "44fbf9649c71d15d",
   "execution_count": 15
  },
  {
   "cell_type": "code",
   "outputs": [
    {
     "data": {
      "text/plain": "4.031124604573152"
     },
     "execution_count": 14,
     "metadata": {},
     "output_type": "execute_result"
    }
   ],
   "source": [
    "doctors_per_1000_tight = calc_doctors_per_amount(clinics_table=processed_clinics_table_tight, amount=1000, service_list = [\"רופאים\"])\n",
    "doctors_per_1000_tight"
   ],
   "metadata": {
    "collapsed": false,
    "ExecuteTime": {
     "end_time": "2024-06-12T18:34:57.463532800Z",
     "start_time": "2024-06-12T18:34:57.429352100Z"
    }
   },
   "id": "1debdcf6feaa8374",
   "execution_count": 14
  },
  {
   "cell_type": "code",
   "outputs": [
    {
     "data": {
      "text/plain": "4.4605210080465385"
     },
     "execution_count": 16,
     "metadata": {},
     "output_type": "execute_result"
    }
   ],
   "source": [
    "doctors_per_1000_tight_with_consult = calc_doctors_per_amount(clinics_table=processed_clinics_table_tight, amount=1000, service_list = [\"רופאים\", \"יועצים ומנתחים\"])\n",
    "doctors_per_1000_tight_with_consult"
   ],
   "metadata": {
    "collapsed": false,
    "ExecuteTime": {
     "end_time": "2024-06-12T18:40:56.665858400Z",
     "start_time": "2024-06-12T18:40:56.607037400Z"
    }
   },
   "id": "28a664fdaa5f3438",
   "execution_count": 16
  },
  {
   "cell_type": "code",
   "outputs": [],
   "source": [],
   "metadata": {
    "collapsed": false
   },
   "id": "36de4155cd62aa40"
  },
  {
   "cell_type": "code",
   "outputs": [
    {
     "data": {
      "text/plain": "9420200.0"
     },
     "execution_count": 9,
     "metadata": {},
     "output_type": "execute_result"
    }
   ],
   "source": [
    "israel_total_population_end_2022 = 9662037\n",
    "total_with_health_insurance = 9420200\n",
    "\n",
    "clalit_total_2022 = 0.512*total_with_health_insurance\n",
    "maccabi_total_2022 = 0.274*total_with_health_insurance\n",
    "leumit_total_2022 = 0.138*total_with_health_insurance\n",
    "meuhedet_total_2022 = 0.076*total_with_health_insurance\n",
    "\n",
    "clalit_total_2022+maccabi_total_2022+leumit_total_2022+meuhedet_total_2022\n"
   ],
   "metadata": {
    "collapsed": false,
    "ExecuteTime": {
     "end_time": "2024-06-12T13:41:04.351410700Z",
     "start_time": "2024-06-12T13:41:04.342423700Z"
    }
   },
   "id": "d4aeb8df54a85fc6",
   "execution_count": 9
  },
  {
   "cell_type": "code",
   "outputs": [
    {
     "data": {
      "text/plain": "(45600, 50)"
     },
     "execution_count": 19,
     "metadata": {},
     "output_type": "execute_result"
    }
   ],
   "source": [
    "only_doctors = processed_clinics_table[processed_clinics_table.services_type_desc.isin([\"יועצים ומנתחים\", \"רופאים\"])]\n",
    "only_doctors.shape"
   ],
   "metadata": {
    "collapsed": false,
    "ExecuteTime": {
     "end_time": "2024-06-12T18:04:23.326426700Z",
     "start_time": "2024-06-12T18:04:23.304125300Z"
    }
   },
   "id": "d8a948a99d8aeea1",
   "execution_count": 19
  },
  {
   "cell_type": "code",
   "outputs": [
    {
     "data": {
      "text/plain": "4.840661557079468"
     },
     "execution_count": 20,
     "metadata": {},
     "output_type": "execute_result"
    }
   ],
   "source": [
    "doctors_per_1000 = len(only_doctors) * 1000 / (total_with_health_insurance)\n",
    "doctors_per_1000"
   ],
   "metadata": {
    "collapsed": false,
    "ExecuteTime": {
     "end_time": "2024-06-12T18:04:29.403479500Z",
     "start_time": "2024-06-12T18:04:29.397420900Z"
    }
   },
   "id": "95e132401935ba27",
   "execution_count": 20
  },
  {
   "cell_type": "code",
   "outputs": [
    {
     "data": {
      "text/plain": "(10940, 50)"
     },
     "execution_count": 18,
     "metadata": {},
     "output_type": "execute_result"
    }
   ],
   "source": [
    "family_n_kids_doctors = only_doctors[only_doctors.expertise_desc.isin([\"משפחה\", \"ילדים\"])] \n",
    "family_n_kids_doctors.shape"
   ],
   "metadata": {
    "collapsed": false,
    "ExecuteTime": {
     "end_time": "2024-06-12T18:04:09.759217500Z",
     "start_time": "2024-06-12T18:04:09.736460200Z"
    }
   },
   "id": "e01a2f78faeee613",
   "execution_count": 18
  },
  {
   "cell_type": "code",
   "outputs": [
    {
     "data": {
      "text/plain": "1.2145177384768902"
     },
     "execution_count": 13,
     "metadata": {},
     "output_type": "execute_result"
    }
   ],
   "source": [
    "family_n_kids_doctors_per_1000 = len(family_n_kids_doctors) * 1000 / (total_with_health_insurance)\n",
    "family_n_kids_doctors_per_1000"
   ],
   "metadata": {
    "collapsed": false,
    "ExecuteTime": {
     "end_time": "2024-06-12T13:48:04.474536Z",
     "start_time": "2024-06-12T13:48:04.462836300Z"
    }
   },
   "id": "bb36c9fa1a609738",
   "execution_count": 13
  },
  {
   "cell_type": "markdown",
   "source": [],
   "metadata": {
    "collapsed": false
   },
   "id": "de55be2f15dc0c7a"
  },
  {
   "cell_type": "code",
   "outputs": [],
   "source": [
    "kupot_dict = {\n",
    "    \"כללית\": clalit_total_2022,\n",
    "    \"מכבי\": maccabi_total_2022,\n",
    "    \"לאומית\": leumit_total_2022,\n",
    "    \"מאוחדת\": meuhedet_total_2022\n",
    "}\n",
    "\n"
   ],
   "metadata": {
    "collapsed": false,
    "ExecuteTime": {
     "end_time": "2024-06-12T13:52:09.865950700Z",
     "start_time": "2024-06-12T13:52:09.859938100Z"
    }
   },
   "id": "9c6ca2ab18193c93",
   "execution_count": 14
  },
  {
   "cell_type": "code",
   "outputs": [
    {
     "name": "stdout",
     "output_type": "stream",
     "text": [
      "כללית\n",
      "total doctors per 1000:  4.430306681386806\n",
      "family_n_kids_doctors_per_1000:  1.0779279500435235\n",
      "מכבי\n",
      "total doctors per 1000:  3.8816260196871544\n",
      "family_n_kids_doctors_per_1000:  1.0727839553362342\n",
      "לאומית\n",
      "total doctors per 1000:  6.415445808867715\n",
      "family_n_kids_doctors_per_1000:  1.3592437343248505\n",
      "מאוחדת\n",
      "total doctors per 1000:  8.203256384097331\n",
      "family_n_kids_doctors_per_1000:  2.3828972231006382\n"
     ]
    }
   ],
   "source": [
    "for kupa, total in kupot_dict.items():\n",
    "    total_doctors = only_doctors[only_doctors.hmo_desc == kupa]\n",
    "    total_doctors_per_1000 = len(total_doctors) * 1000 / total\n",
    "    family_n_kids_doctors = total_doctors[total_doctors.expertise_desc.isin([\"משפחה\", \"ילדים\"])]\n",
    "    family_n_kids_doctors_per_1000 = len(family_n_kids_doctors) * 1000 / total\n",
    "    print(kupa)\n",
    "    print(\"total doctors per 1000: \", total_doctors_per_1000)\n",
    "    print(\"family_n_kids_doctors_per_1000: \", family_n_kids_doctors_per_1000)"
   ],
   "metadata": {
    "collapsed": false,
    "ExecuteTime": {
     "end_time": "2024-06-12T13:55:54.822310700Z",
     "start_time": "2024-06-12T13:55:54.773498800Z"
    }
   },
   "id": "2910d73a6d9674c5",
   "execution_count": 15
  },
  {
   "cell_type": "code",
   "outputs": [],
   "source": [],
   "metadata": {
    "collapsed": false
   },
   "id": "72af1ec18b8d096c"
  },
  {
   "cell_type": "code",
   "outputs": [],
   "source": [],
   "metadata": {
    "collapsed": false
   },
   "id": "4a1b8462dc5b90b5"
  },
  {
   "cell_type": "code",
   "outputs": [],
   "source": [],
   "metadata": {
    "collapsed": false
   },
   "id": "610a6aa6f1ff66bf"
  }
 ],
 "metadata": {
  "kernelspec": {
   "display_name": "Python 3",
   "language": "python",
   "name": "python3"
  },
  "language_info": {
   "codemirror_mode": {
    "name": "ipython",
    "version": 2
   },
   "file_extension": ".py",
   "mimetype": "text/x-python",
   "name": "python",
   "nbconvert_exporter": "python",
   "pygments_lexer": "ipython2",
   "version": "2.7.6"
  }
 },
 "nbformat": 4,
 "nbformat_minor": 5
}
